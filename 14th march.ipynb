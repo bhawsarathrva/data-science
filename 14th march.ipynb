{
 "cells": [
  {
   "cell_type": "markdown",
   "metadata": {},
   "source": [
    "Q1. Write a Python function that takes in two arrays of data and calculates the F-value for a variance ratio \n",
    "test. The function should return the F-value and the corresponding p-value for the test\n",
    "Ans. "
   ]
  },
  {
   "cell_type": "code",
   "execution_count": 7,
   "metadata": {},
   "outputs": [
    {
     "name": "stdout",
     "output_type": "stream",
     "text": [
      "F_value: 3.9372817118349177\n",
      "P_value: 0.03329866458566044\n"
     ]
    }
   ],
   "source": [
    "import numpy as np\n",
    "from scipy.stats import f\n",
    "\n",
    "array1=[17,19,23,24,28,29,37,45,51,55]\n",
    "array2=[14,15,15,17.18,22,25,25,27,34]\n",
    "\n",
    "def variance_ratio_test(array1,array2):\n",
    "    var1=np.var(array1,ddof=1)\n",
    "    var2=np.var(array2,ddof=1)\n",
    "    \n",
    "    df1=len(array1)-1\n",
    "    df2=len(array2)-1\n",
    "    \n",
    "    f_value=var1/var2\n",
    "    \n",
    "    p_value=1-f.cdf(f_value,df1,df2)\n",
    "    \n",
    "    \n",
    "    \n",
    "    return f_value, p_value\n",
    "\n",
    "f_value,p_value=variance_ratio_test(array1,array2)\n",
    "print(\"F_value:\",f_value)\n",
    "print(\"P_value:\",p_value)"
   ]
  },
  {
   "cell_type": "markdown",
   "metadata": {},
   "source": [
    "Q2. Given a significance level of 0.05 and the degrees of freedom for the numerator and denominator of an \n",
    "F-distribution, write a Python function that returns the critical F-value for a two-tailed test."
   ]
  },
  {
   "cell_type": "code",
   "execution_count": 10,
   "metadata": {},
   "outputs": [
    {
     "name": "stdout",
     "output_type": "stream",
     "text": [
      "The critical F-Value is: 3.289055845680407\n"
     ]
    }
   ],
   "source": [
    "from scipy.stats import f\n",
    "def critical_f_value(alpha,df1,df2):\n",
    "    alpha=alpha/2\n",
    "    f_critical=f.ppf(1-alpha,df1,df2)\n",
    "    \n",
    "    return f_critical\n",
    "\n",
    "f_critical=critical_f_value(0.05,5,20)\n",
    "print(f\"The critical F-Value is: {f_critical}\")"
   ]
  },
  {
   "cell_type": "markdown",
   "metadata": {},
   "source": [
    "Q3. Write a Python program that generates random samples from two normal distributions with known \n",
    "variances and uses an F-test to determine if the variances are equal. The program should output the F-value, degrees of freedom, and p-value for the test."
   ]
  },
  {
   "cell_type": "code",
   "execution_count": 12,
   "metadata": {},
   "outputs": [
    {
     "name": "stdout",
     "output_type": "stream",
     "text": [
      "F_value: 0.355\n",
      "Degrees of freedom: 98\n",
      "P-value: 0.553\n"
     ]
    }
   ],
   "source": [
    "import numpy as np\n",
    "import scipy.stats as stats\n",
    "\n",
    "sample_size= 50\n",
    "variance1=2\n",
    "variance2=3\n",
    "\n",
    "samples1= np.random.normal(0,np.sqrt(variance1),size=sample_size)\n",
    "samples2= np.random.normal(0,np.sqrt(variance2),size=sample_size)\n",
    "\n",
    "f_value,p_value=stats.f_oneway(samples1,samples2)\n",
    "degree_freedom= (sample_size-1)*2\n",
    "\n",
    "print(f\"F_value: {f_value:.3f}\")\n",
    "print(f\"Degrees of freedom: {degree_freedom}\")\n",
    "print(f\"P-value: {p_value:.3f}\")"
   ]
  },
  {
   "cell_type": "markdown",
   "metadata": {},
   "source": [
    "Q4.The variances of two populations are known to be 10 and 15. A sample of 12 observations is taken from \n",
    "each population. Conduct an F-test at the 5% significance level to determine if the variances are \n",
    "significantly different."
   ]
  },
  {
   "cell_type": "code",
   "execution_count": null,
   "metadata": {},
   "outputs": [],
   "source": [
    "import numpy as np\n",
    "import scipy.stats as stats\n",
    "\n",
    "variance1 = 10\n",
    "variance2 = 15\n",
    "sample_size = 12\n",
    "\n",
    "samples1 = np.random.normal(0, np.sqrt(variance1), size=sample_size)\n",
    "samples2 = np.random.normal(0, np.sqrt(variance2), size=sample_size)\n",
    "\n",
    "f_value, p_value = stats.f_oneway(samples1, samples2)\n",
    "degrees_freedom = (sample_size - 1) * 2\n",
    "\n",
    "print(f\"F-value: {f_value:.3f}\")\n",
    "print(f\"Degrees of freedom: {degrees_freedom}\")\n",
    "alpha = 0.05\n",
    "critical_value = stats.f.ppf(1 - alpha, degrees_freedom=sample_size - 1, degrees_freedom=sample_size - 1)\n",
    "print(f\"Critical value: {critical_value:.3f}\")\n",
    "if p_value < alpha:\n",
    "    print(\"Reject the null hypothesis. The variances are significantly different.\")\n",
    "else:\n",
    "    print(\"Fail to reject the null hypothesis. The variances are not significantly different.\")"
   ]
  },
  {
   "cell_type": "markdown",
   "metadata": {},
   "source": [
    "Q5. A manufacturer claims that the variance of the diameter of a certain product is 0.005. A sample of 25 \n",
    "products is taken, and the sample variance is found to be 0.006. Conduct an F-test at the 1% significance \n",
    "level to determine if the claim is justified.\n"
   ]
  },
  {
   "cell_type": "markdown",
   "metadata": {},
   "source": [
    "Q6. Write a Python function that takes in the degrees of freedom for the numerator and denominator of an \n",
    "F-distribution and calculates the mean and variance of the distribution. The function should return the \n",
    "mean and variance as a tuple."
   ]
  },
  {
   "cell_type": "code",
   "execution_count": null,
   "metadata": {},
   "outputs": [],
   "source": [
    "import math\n",
    "df_num=6\n",
    "df_num=9\n",
    "\n",
    "def f_distribution_mean_variance(df_num, df_den):\n",
    "    if df_num <= 2 or df_den <= 2:\n",
    "        return \"The given degrees of freedom should be greater than 2 for both numerator and denominator.\"\n",
    "\n",
    "    mean = df_den / (df_den - 2)\n",
    "    variance = 2 * df_den**2 * (df_num + df_den - 2) / (df_num * (df_den - 2)**2 * (df_den - 4))\n",
    "\n",
    "    return (mean, variance)\n"
   ]
  },
  {
   "cell_type": "markdown",
   "metadata": {},
   "source": [
    "Q7. A random sample of 10 measurements is taken from a normal population with unknown variance. The \n",
    "sample variance is found to be 25. Another random sample of 15 measurements is taken from another \n",
    "normal population with unknown variance, and the sample variance is found to be 20. Conduct an F-test \n",
    "at the 10% significance level to determine if the variances are significantly different.\n",
    "Ans. n1=10\n",
    "n2=15\n",
    "s1^2=25\n",
    "s2^2=20\n",
    "F=s1^2/s2^2\n",
    "df1 = n1 - 1\n",
    "df2 = n2 - 1"
   ]
  },
  {
   "cell_type": "code",
   "execution_count": 19,
   "metadata": {},
   "outputs": [
    {
     "name": "stdout",
     "output_type": "stream",
     "text": [
      "Fail to reject the null hypothesis. No significant difference in variances.\n"
     ]
    }
   ],
   "source": [
    "import scipy.stats as stats\n",
    "\n",
    "# Given sample variances\n",
    "s1_squared = 25\n",
    "s2_squared = 20\n",
    "\n",
    "# Sample sizes\n",
    "n1 = 10\n",
    "n2 = 15\n",
    "\n",
    "# Degrees of freedom\n",
    "df1 = n1 - 1\n",
    "df2 = n2 - 1\n",
    "\n",
    "# Calculate the F-statistic\n",
    "F_statistic = s1_squared / s2_squared\n",
    "\n",
    "# Calculate the p-value\n",
    "p_value = 2 * (1 - stats.f.cdf(F_statistic, df1, df2))\n",
    "\n",
    "# Significance level\n",
    "alpha = 0.10\n",
    "\n",
    "# Compare p-value to the significance level\n",
    "if p_value < alpha:\n",
    "    print(\"Reject the null hypothesis. Variances are significantly different.\")\n",
    "else:\n",
    "    print(\"Fail to reject the null hypothesis. No significant difference in variances.\")"
   ]
  },
  {
   "cell_type": "markdown",
   "metadata": {},
   "source": [
    "Q8. The following data represent the waiting times in minutes at two different restaurants on a Saturday \n",
    "night: Restaurant A: 24, 25, 28, 23, 22, 20, 27; Restaurant B: 31, 33, 35, 30, 32, 36. Conduct an F-test at the 5% \n",
    "significance level to determine if the variances are significantly different.\n",
    "Ans. \n",
    "H0: σ^2_A = σ^2_B \n",
    "H1: σ^2_A ≠ σ^2_B\n",
    "Restaurant A: n = 7 \n",
    "Restaurant B: n = 6\n",
    "Restaurant A: s^2_A = 40\n",
    "Restaurant B: s^2_B = 33\n",
    "F = (s^2_A / n_A) / (s^2_B / n_B)\n",
    "\n",
    "F = (40 / 7) / (33 / 6)\n",
    "\n",
    "F ≈ 1.039\n",
    "\n",
    "Using an F-distribution table or calculator, we find the critical F-value to be approximately 3.29.\n",
    "Since our calculated F-statistic (2.38) is less than the critical F-value (3.29), we fail to reject the null hypothesis."
   ]
  },
  {
   "cell_type": "markdown",
   "metadata": {},
   "source": [
    "Q9. The following data represent the test scores of two groups of students: Group A: 80, 85, 90, 92, 87, 83; \n",
    "Group B: 75, 78, 82, 79, 81, 84. Conduct an F-test at the 1% significance level to determine if the variances \n",
    "are significantly different.\n",
    "Ans. Group A: 80,85,90,92,87,83\n",
    "Group B: 75,78,82,79,81,84\n",
    "\n",
    "H0: σ^2_A = σ^2_B\n",
    "H1: σ^2_A ≠ σ^2_B\n",
    "A:n=6\n",
    "B:n=6\n",
    "Group A: s^2_A = 44\n",
    "Group B: s^2_B = 11.33\n",
    "F = (s^2_A / n_A) / (s^2_B / n_B)\n",
    "\n",
    "F = (44 / 6) / (11.33 / 6)\n",
    "\n",
    "F ≈ 4.43\n",
    "\n",
    "Using an F-distribution table or calculator, we find the critical F-value to be approximately 7.13.\n",
    "\n",
    "Since our calculated F-statistic (4.43) is less than the critical F-value (7.13), we fail toreject the null hypothesis."
   ]
  }
 ],
 "metadata": {
  "kernelspec": {
   "display_name": "Python 3",
   "language": "python",
   "name": "python3"
  },
  "language_info": {
   "codemirror_mode": {
    "name": "ipython",
    "version": 3
   },
   "file_extension": ".py",
   "mimetype": "text/x-python",
   "name": "python",
   "nbconvert_exporter": "python",
   "pygments_lexer": "ipython3",
   "version": "3.11.5"
  }
 },
 "nbformat": 4,
 "nbformat_minor": 2
}
