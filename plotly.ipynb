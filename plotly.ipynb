{
 "cells": [
  {
   "cell_type": "markdown",
   "metadata": {},
   "source": [
    "Q1. Load the \"titanic\" dataset using the load_dataset function of seaborn. Use Plotly express to plot a\n",
    "scatter plot for age and fare columns in the titanic dataset."
   ]
  },
  {
   "cell_type": "code",
   "execution_count": null,
   "metadata": {},
   "outputs": [],
   "source": [
    "#Ans\n",
    "import pandas as pd\n",
    "import plotly.express as px\n",
    "import seaborn as sns\n",
    "\n",
    "data = pd.read_csv(\"titanic_data.csv\")\n",
    "\n",
    "scatter_plot = px.scatter(data, x=\"Age\", y=\"Fare\", title=\"Scatter Plot of Age vs Fare\")\n",
    "scatter_plot.show()\n"
   ]
  },
  {
   "cell_type": "markdown",
   "metadata": {},
   "source": [
    "Q2. Using the tips dataset in the Plotly library, plot a box plot using Plotly express."
   ]
  },
  {
   "cell_type": "code",
   "execution_count": null,
   "metadata": {},
   "outputs": [],
   "source": [
    "#Ans\n",
    "import plotly.express as px\n",
    "\n",
    "tips_data = px.data.tips\n",
    "\n",
    "box_plot = px.box(tips_data, x=\"day\", y=\"total_bill\", title=\"Box Plot of Total Bill Amounts by Day\")\n",
    "box_plot.show()\n"
   ]
  },
  {
   "cell_type": "markdown",
   "metadata": {},
   "source": [
    "Q3. Using the tips dataset in the Plotly library, Plot a histogram for x= \"sex\" and y=\"total_bill\" column in\n",
    "the tips dataset. Also, use the \"smoker\" column with the pattern_shape parameter and the \"day\"\n",
    "column with the color parameter."
   ]
  },
  {
   "cell_type": "code",
   "execution_count": 24,
   "metadata": {},
   "outputs": [
    {
     "ename": "AttributeError",
     "evalue": "module 'plotly' has no attribute 'histogram'",
     "output_type": "error",
     "traceback": [
      "\u001b[1;31m---------------------------------------------------------------------------\u001b[0m",
      "\u001b[1;31mAttributeError\u001b[0m                            Traceback (most recent call last)",
      "Cell \u001b[1;32mIn[24], line 5\u001b[0m\n\u001b[0;32m      1\u001b[0m \u001b[39mimport\u001b[39;00m \u001b[39mplotly\u001b[39;00m \u001b[39mas\u001b[39;00m \u001b[39mplt\u001b[39;00m\n\u001b[0;32m      3\u001b[0m tips_data \u001b[39m=\u001b[39m plt\u001b[39m.\u001b[39mdata\u001b[39m.\u001b[39mtips\n\u001b[1;32m----> 5\u001b[0m histogram \u001b[39m=\u001b[39m plt\u001b[39m.\u001b[39;49mhistogram\n\u001b[0;32m      6\u001b[0m tips_data,\n\u001b[0;32m      7\u001b[0m x\u001b[39m=\u001b[39m\u001b[39m\"\u001b[39m\u001b[39msex\u001b[39m\u001b[39m\"\u001b[39m,\n",
      "File \u001b[1;32m~\\AppData\\Roaming\\Python\\Python311\\site-packages\\_plotly_utils\\importers.py:39\u001b[0m, in \u001b[0;36mrelative_import.<locals>.__getattr__\u001b[1;34m(import_name)\u001b[0m\n\u001b[0;32m     36\u001b[0m     class_module \u001b[39m=\u001b[39m importlib\u001b[39m.\u001b[39mimport_module(rel_module, parent_name)\n\u001b[0;32m     37\u001b[0m     \u001b[39mreturn\u001b[39;00m \u001b[39mgetattr\u001b[39m(class_module, class_name)\n\u001b[1;32m---> 39\u001b[0m \u001b[39mraise\u001b[39;00m \u001b[39mAttributeError\u001b[39;00m(\n\u001b[0;32m     40\u001b[0m     \u001b[39m\"\u001b[39m\u001b[39mmodule \u001b[39m\u001b[39m{__name__!r}\u001b[39;00m\u001b[39m has no attribute \u001b[39m\u001b[39m{name!r}\u001b[39;00m\u001b[39m\"\u001b[39m\u001b[39m.\u001b[39mformat(\n\u001b[0;32m     41\u001b[0m         name\u001b[39m=\u001b[39mimport_name, \u001b[39m__name__\u001b[39m\u001b[39m=\u001b[39mparent_name\n\u001b[0;32m     42\u001b[0m     )\n\u001b[0;32m     43\u001b[0m )\n",
      "\u001b[1;31mAttributeError\u001b[0m: module 'plotly' has no attribute 'histogram'"
     ]
    }
   ],
   "source": [
    "#Ans\n",
    "import plotly as plt\n",
    "\n",
    "tips_data = plt.data.tips\n",
    "\n",
    "histogram = plt.histogram\n",
    "tips_data,\n",
    "x=\"sex\",\n",
    "y=\"total_bill\",\n",
    "color=\"day\",\n",
    "facet_col=\"smoker\",\n",
    "pattern_shape=\"smoker\",\n",
    "title=\"Histogram of Total Bill Amounts by Sex with Smoker Pattern and Day Colors\",\n",
    "labels={\"sex\": \"Sex\", \"total_bill\": \"Total Bill\"}\n",
    "\n",
    "\n"
   ]
  },
  {
   "cell_type": "markdown",
   "metadata": {},
   "source": [
    "Q4. Using the iris dataset in the Plotly library, Plot a scatter matrix plot, using the \"species\" column for\n",
    "the color parameter."
   ]
  },
  {
   "cell_type": "code",
   "execution_count": null,
   "metadata": {},
   "outputs": [],
   "source": [
    "#ans\n",
    "import plotly.express as px\n",
    "\n",
    "iris_data = px.data.iris()\n",
    "\n",
    "scatter_matrix = px.scatter_matrix(\n",
    "    iris_data,\n",
    "    dimensions=[\"sepal_length\", \"sepal_width\", \"petal_length\", \"petal_width\"],\n",
    "    color=\"species\",\n",
    "    title=\"Scatter Matrix Plot of Iris Dataset\"\n",
    ")\n",
    "\n",
    "scatter_matrix.show()\n"
   ]
  },
  {
   "cell_type": "markdown",
   "metadata": {},
   "source": [
    "Q5. What is Distplot? Using Plotly express, plot a distplot."
   ]
  },
  {
   "cell_type": "markdown",
   "metadata": {},
   "source": [
    "Ans. The displot function generates a configurable grid of subplots using univariate distribution graphs. Depending on the type of data you're plotting, these plots might include histograms, kernel density estimates, and other variations. In comparison to the deprecated distplot function, the displot function provides more flexibility and customization over the look of the charts.\n",
    "\n",
    "Plotly Express focuses more on other types of visualizations, such as scatter plots, bar charts, and line plots. If you're looking for a similar type of visualization that combines a histogram and a kernel density estimate plot, you might consider using the histogram function with the facet_col parameter to separate the distribution by different categories."
   ]
  }
 ],
 "metadata": {
  "kernelspec": {
   "display_name": "Python 3",
   "language": "python",
   "name": "python3"
  },
  "language_info": {
   "codemirror_mode": {
    "name": "ipython",
    "version": 3
   },
   "file_extension": ".py",
   "mimetype": "text/x-python",
   "name": "python",
   "nbconvert_exporter": "python",
   "pygments_lexer": "ipython3",
   "version": "3.11.0"
  },
  "orig_nbformat": 4
 },
 "nbformat": 4,
 "nbformat_minor": 2
}
