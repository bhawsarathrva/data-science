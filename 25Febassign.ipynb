{
 "cells": [
  {
   "attachments": {},
   "cell_type": "markdown",
   "metadata": {},
   "source": [
    "Consider following code to answer further questions:\n",
    "\n",
    "import pandas as pd\n",
    "\n",
    "course_name = [‘Data Science’, ‘Machine Learning’, ‘Big Data’, ‘Data Engineer’]\n",
    "\n",
    "duration =  [2,3,6,4]\n",
    "\n",
    "df = pd.DataFrame(data = {‘course_name’ : course_name, ‘duration’ : duration})"
   ]
  },
  {
   "attachments": {},
   "cell_type": "markdown",
   "metadata": {},
   "source": [
    "Q1. Write a code to print the data present in the second row of the dataframe, df."
   ]
  },
  {
   "cell_type": "code",
   "execution_count": 1,
   "metadata": {},
   "outputs": [
    {
     "name": "stdout",
     "output_type": "stream",
     "text": [
      "course_name    Machine Learning\n",
      "duration                      3\n",
      "Name: 1, dtype: object\n"
     ]
    }
   ],
   "source": [
    "import pandas as pd\n",
    "\n",
    "course_name = ['Data Science', 'Machine Learning', 'Big Data', 'Data Engineer']\n",
    "duration = [2, 3, 6, 4]\n",
    "\n",
    "df = pd.DataFrame(data={'course_name': course_name, 'duration': duration})\n",
    "\n",
    "second_row = df.iloc[1]\n",
    "\n",
    "print(second_row)\n"
   ]
  },
  {
   "attachments": {},
   "cell_type": "markdown",
   "metadata": {},
   "source": [
    "Q2. What is the difference between the functions loc and iloc in pandas.DataFrame?"
   ]
  },
  {
   "attachments": {},
   "cell_type": "markdown",
   "metadata": {},
   "source": [
    "Ans. Using specified labels or integer-based places, the loc and iloc functions are used to access and retrieve data from a DataFrame, respectively.\n",
    "\n",
    "loc: \n",
    "1. This function is primarily label-based, meaning it allows you to access data based on the index labels (row labels) and column names.\n",
    "\n",
    "2. It uses a combination of row and column labels to identify and retrieve data.\n",
    "\n",
    "3. The syntax for loc is df.loc[row_label, column_label].\n",
    "\n",
    "4. Row labels can be a single label, a list of labels, or a slice object. Column labels follow the same conventions.\n",
    "\n",
    "5. If you only provide a row label, loc will return the entire row as a Series or DataFrame.\n",
    "\n",
    "6. If you provide both row and column labels, loc will return a scalar value.\n",
    "\n",
    "iloc:\n",
    "1. This function is primarily integer-based, which means it allows you to access data based on integer-based positions (index positions) of rows and columns.\n",
    "\n",
    "2. It disregards the labels and only considers the numerical position.\n",
    "\n",
    "3. The syntax for iloc is df.iloc[row_position, column_position].\n",
    "\n",
    "4. Row and column positions can be a single position, a list of positions, or a slice object.\n",
    "\n",
    "5. If you provide only a row position, iloc will return the entire row as a Series or DataFrame.\n",
    "\n",
    "6. If you provide both row and column positions, iloc will return a scalar value."
   ]
  },
  {
   "attachments": {},
   "cell_type": "markdown",
   "metadata": {},
   "source": [
    "Q3. Reindex the given dataframe using a variable, reindex = [3,0,1,2] and store it in the variable, new_df\n",
    "then find the output for both new_df.loc[2] and new_df.iloc[2].\n"
   ]
  },
  {
   "attachments": {},
   "cell_type": "markdown",
   "metadata": {},
   "source": [
    "Ans. we can use reindex() function for indexinfg the dataframe "
   ]
  },
  {
   "cell_type": "code",
   "execution_count": 1,
   "metadata": {},
   "outputs": [
    {
     "name": "stdout",
     "output_type": "stream",
     "text": [
      "course_name    Big Data\n",
      "duration              6\n",
      "Name: 2, dtype: object\n",
      "course_name    Machine Learning\n",
      "duration                      3\n",
      "Name: 1, dtype: object\n"
     ]
    }
   ],
   "source": [
    "import pandas as pd\n",
    "\n",
    "course_name = ['Data Science', 'Machine Learning', 'Big Data', 'Data Engineer']\n",
    "duration = [2, 3, 6, 4]\n",
    "df = pd.DataFrame(data={'course_name': course_name, 'duration': duration})\n",
    "\n",
    "reindex = [3, 0, 1, 2]\n",
    "new_df = df.reindex(reindex)\n",
    "\n",
    "print(new_df.loc[2])\n",
    "print(new_df.iloc[2])\n"
   ]
  },
  {
   "attachments": {},
   "cell_type": "markdown",
   "metadata": {},
   "source": [
    "The results are different from one another.\n",
    "\n",
    "The row with index 2 in the new_df DataFrame, which corresponds to the row with original index 1 (\"Big Data\" with duration 6), is returned by new_df.loc[2].\n",
    "\n",
    "\n",
    "The row with position 2 in the new_df DataFrame, which corresponds to the row with the original index 0 (\"Machine Learning\" with duration 3), is returned by the function new_df.iloc[2].\n"
   ]
  },
  {
   "attachments": {},
   "cell_type": "markdown",
   "metadata": {},
   "source": [
    "Consider the below code to answer further questions:\n",
    "import pandas as pd\n",
    "\n",
    "columns = ['column_1', 'column_2', 'column_3', 'column_4', 'column_5', 'column_6']\n",
    "\n",
    "indices = [1,2,3,4,5,6]\n",
    "\n",
    "#Creating a dataframe:\n",
    "\n",
    "df1 = pd.DataFrame(np.random.rand(6,6), columns = columns, index = indices)"
   ]
  },
  {
   "attachments": {},
   "cell_type": "markdown",
   "metadata": {},
   "source": [
    "Q4. Write a code to find the following statistical measurements for the above dataframe df1:\n",
    "\n",
    "(i) mean of each and every column present in the dataframe.\n",
    "\n",
    "(ii) standard deviation of column, ‘column_2’"
   ]
  },
  {
   "cell_type": "code",
   "execution_count": 3,
   "metadata": {},
   "outputs": [
    {
     "name": "stdout",
     "output_type": "stream",
     "text": [
      "Mean of each column:\n",
      "column_1    0.703419\n",
      "column_2    0.544232\n",
      "column_3    0.420600\n",
      "column_4    0.426466\n",
      "column_5    0.518880\n",
      "column_6    0.382485\n",
      "dtype: float64\n",
      "Standard deviation of column 'column_2':\n",
      "0.229460316203946\n"
     ]
    }
   ],
   "source": [
    "import pandas as pd\n",
    "import numpy as np\n",
    "columns = ['column_1', 'column_2', 'column_3', 'column_4', 'column_5', 'column_6']\n",
    "indices = [1,2,3,4,5,6]\n",
    "df1 = pd.DataFrame(np.random.rand(6,6), columns = columns, index = indices)\n",
    "# ans of part 1.\n",
    "column_means = df1.mean()\n",
    "print(\"Mean of each column:\")\n",
    "print(column_means)\n",
    "# ans of part 2.\n",
    "column_2_std = df1['column_2'].std()\n",
    "print(\"Standard deviation of column 'column_2':\")\n",
    "print(column_2_std)\n"
   ]
  },
  {
   "attachments": {},
   "cell_type": "markdown",
   "metadata": {},
   "source": [
    "Q5. Replace the data present in the second row of column, ‘column_2’ by a string variable then find the\n",
    "mean of column, column_2.\n",
    "If you are getting errors in executing it then explain why."
   ]
  },
  {
   "attachments": {},
   "cell_type": "markdown",
   "metadata": {},
   "source": [
    "Q6. What do you understand about the windows function in pandas and list the types of windows\n",
    "functions?"
   ]
  },
  {
   "attachments": {},
   "cell_type": "markdown",
   "metadata": {},
   "source": [
    "Ans. In a DataFrame or Series, window functions are operations that are applied to a particular window or a subset of data. Time series analysis, data smoothing, and feature engineering are a few examples of the tasks that these functions can be used for. These functions allow you to execute calculations and computations on a sliding or rolling window of data.\n",
    "\n",
    "1. Rolling windows functions:\n",
    "\n",
    "'rolling()'- Provides rolling window calculations, where a specified window size is used to calculate the desired metric.\n",
    "'rolling().apply()'\n",
    "'rolling().aggregate()'\n",
    "'rolling().mean()'\n",
    "'rolling().sum()'\n",
    "'rolling().std()'\n",
    "'rollimg().var()'\n",
    "\n",
    "\n",
    "2. Expanding Windows Functions:\n",
    "\n",
    "'expanding()'\n",
    "'expanding().apply()'\n",
    "'expanding().mean()'\n",
    "'expanding().sum()'\n",
    "'expanding().std()'\n",
    "\n",
    "3. Exponential Moving Windows:\n",
    "\n",
    "These windows are fixed in size but provide more weight to recent data points, making them appropriate for smoothing time-series data."
   ]
  },
  {
   "cell_type": "markdown",
   "metadata": {},
   "source": [
    "Q7. Write a code to print only the current month and year at the time of answering this question."
   ]
  },
  {
   "cell_type": "code",
   "execution_count": 7,
   "metadata": {},
   "outputs": [
    {
     "name": "stdout",
     "output_type": "stream",
     "text": [
      "Current Month: 8\n",
      "Current Year: 2023\n"
     ]
    }
   ],
   "source": [
    "from datetime import datetime\n",
    "\n",
    "currentdate = datetime.now()\n",
    "\n",
    "current_month = currentdate.month\n",
    "current_year = currentdate.year\n",
    "\n",
    "print(f\"Current Month: {current_month}\")\n",
    "print(f\"Current Year: {current_year}\")\n"
   ]
  },
  {
   "cell_type": "markdown",
   "metadata": {},
   "source": [
    "Q8. Write a Python program that takes in two dates as input (in the format YYYY-MM-DD) and\n",
    "calculates the difference between them in days, hours, and minutes using Pandas time delta. The\n",
    "program should prompt the user to enter the dates and display the result."
   ]
  },
  {
   "cell_type": "code",
   "execution_count": 2,
   "metadata": {},
   "outputs": [
    {
     "name": "stdout",
     "output_type": "stream",
     "text": [
      "Enter the start date (YYYY-MM-DD):\n",
      "Enter the end date (YYYY-MM-DD):\n",
      "Time difference: 2016 days, 0 hours, and 0 minutes.\n"
     ]
    }
   ],
   "source": [
    "import pandas as pd\n",
    "#by using try and exception in this problem \n",
    "def calculate_time_difference(start_date, end_date):\n",
    "    try:\n",
    "        start_date = pd.to_datetime(start_date)\n",
    "        end_date = pd.to_datetime(end_date)\n",
    "\n",
    "        time_difference = end_date - start_date\n",
    "\n",
    "        days = time_difference.days\n",
    "        hours = time_difference.seconds // 3600\n",
    "        minutes = (time_difference.seconds // 60) % 60\n",
    "\n",
    "        return days, hours, minutes\n",
    "    except ValueError:\n",
    "        return None\n",
    "\n",
    "if __name__ == \"__main__\":\n",
    "    print(\"Enter the start date (YYYY-MM-DD):\")\n",
    "    start_date_input = input()\n",
    "    \n",
    "    print(\"Enter the end date (YYYY-MM-DD):\")\n",
    "    end_date_input = input()\n",
    "\n",
    "    result = calculate_time_difference(start_date_input, end_date_input)\n",
    "\n",
    "    if result is not None:\n",
    "        days, hours, minutes = result\n",
    "        print(f\"Time difference: {days} days, {hours} hours, and {minutes} minutes.\")\n",
    "    else:\n",
    "        print(\"Invalid date format. Please use the format YYYY-MM-DD.\")\n"
   ]
  },
  {
   "cell_type": "markdown",
   "metadata": {},
   "source": [
    "Q9. Write a Python program that reads a CSV file containing categorical data and converts a specified\n",
    "column to a categorical data type. The program should prompt the user to enter the file path, column\n",
    "name, and category order, and then display the sorted data."
   ]
  },
  {
   "cell_type": "code",
   "execution_count": null,
   "metadata": {},
   "outputs": [],
   "source": [
    "import pandas as pd\n",
    "\n",
    "def convert_column_to_categorical(data_frame, column_name, category_order):\n",
    "    try:\n",
    "        data_frame[column_name] = pd.Categorical(data_frame[column_name], categories=category_order, ordered=True)\n",
    "        return data_frame\n",
    "    except KeyError:\n",
    "        return None\n",
    "\n",
    "if __name__ == \"__main__\":\n",
    "    print(\"Enter the file path of the CSV file:\")\n",
    "    file_path = input()\n",
    "\n",
    "    try:\n",
    "        data_frame = pd.read_csv(file_path)\n",
    "\n",
    "        print(\"Enter the column name to convert to categorical:\")\n",
    "        column_name = input()\n",
    "\n",
    "        print(\"Enter the category order (comma-separated values without spaces):\")\n",
    "        category_order = input().split(\",\")\n",
    "\n",
    "        \n",
    "        data_frame = convert_column_to_categorical(data_frame, column_name, category_order)\n",
    "\n",
    "        if data_frame is not None:\n",
    "            \n",
    "            sorted_data = data_frame.sort_values(by=[column_name])\n",
    "\n",
    "            print(\"Sorted Data:\")\n",
    "            print(sorted_data)\n",
    "        else:\n",
    "            print(f\"Column '{column_name}' not found in the CSV file.\")\n",
    "    except FileNotFoundError:\n",
    "        print(f\"File not found at '{file_path}'. Please check the file path and try again.\")\n"
   ]
  },
  {
   "cell_type": "markdown",
   "metadata": {},
   "source": [
    "Q10. Write a Python program that reads a CSV file containing sales data for different products and\n",
    "visualizes the data using a stacked bar chart to show the sales of each product category over time. The\n",
    "program should prompt the user to enter the file path and display the chart."
   ]
  },
  {
   "cell_type": "code",
   "execution_count": 5,
   "metadata": {},
   "outputs": [
    {
     "name": "stdout",
     "output_type": "stream",
     "text": [
      "Enter the file name in CSV format:\n",
      "File not found at ''. Please check the file path and try again.\n"
     ]
    }
   ],
   "source": [
    "import pandas as pd\n",
    "import plotly.express as px\n",
    "\n",
    "if __name__ == \"__main__\":\n",
    "    print(\"Enter the file name in CSV format:\")\n",
    "    file_name = input()\n",
    "\n",
    "    try:\n",
    "        data_frame = pd.read_csv(file_name)\n",
    "\n",
    "        fig = px.bar(data_frame, x='date', y='sales', color='product_category', barcode='stack')\n",
    "\n",
    "        fig.show()\n",
    "    except FileNotFoundError:\n",
    "        print(f\"File not found at '{file_name}'. Please check the file path and try again.\")\n"
   ]
  },
  {
   "cell_type": "markdown",
   "metadata": {},
   "source": [
    "Q11. You are given a CSV file containing student data that includes the student ID and their test score. Write a Python program that reads the CSV file, calculates the mean, median, and mode of the test scores, and displays the results in a table."
   ]
  },
  {
   "cell_type": "code",
   "execution_count": null,
   "metadata": {},
   "outputs": [],
   "source": [
    "import pandas as pd\n",
    "\n",
    "def calculate_statistics(data_frame):\n",
    "    mean_score = data_frame['Test Score'].mean()\n",
    "    median_score = data_frame['Test Score'].median()\n",
    "    mode_scores = data_frame['Test Score'].mode().tolist()\n",
    "    return mean_score, median_score, mode_scores\n",
    "\n",
    "if __name__ == \"__main__\":\n",
    "    print(\"Enter the file path of the CSV file containing the student data:\")\n",
    "    file_path = input()\n",
    "\n",
    "    try:\n",
    "       \n",
    "        data_frame = pd.read_csv(file_path)\n",
    "        \n",
    "        mean_score, median_score, mode_scores = calculate_statistics(data_frame)\n",
    "\n",
    "        results = pd.DataFrame({\n",
    "            'Statistic': ['Mean', 'Median', 'Mode'],\n",
    "            'Value': [mean_score, median_score, ', '.join(str(score) for score in mode_scores)]\n",
    "        })\n",
    "\n",
    "        print(results)\n",
    "    except FileNotFoundError:\n",
    "        print(f\"File not found at '{file_path}'. Please check the file path and try again.\")\n"
   ]
  }
 ],
 "metadata": {
  "kernelspec": {
   "display_name": "Python 3",
   "language": "python",
   "name": "python3"
  },
  "language_info": {
   "codemirror_mode": {
    "name": "ipython",
    "version": 3
   },
   "file_extension": ".py",
   "mimetype": "text/x-python",
   "name": "python",
   "nbconvert_exporter": "python",
   "pygments_lexer": "ipython3",
   "version": "3.11.0"
  },
  "orig_nbformat": 4
 },
 "nbformat": 4,
 "nbformat_minor": 2
}
