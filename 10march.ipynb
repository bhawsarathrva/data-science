{
 "cells": [
  {
   "cell_type": "markdown",
   "metadata": {},
   "source": [
    "Q1. What is Estimation Statistics? Explain point estimate and interval estimate.\n",
    "Ans: Estimation statistics is a part of statistics that deals with the process of estimating population parameters (such as means, proportions, variances, and so on) based on sample data. It is employed when collecting data from a complete population is difficult or impossible, thus a subset of the population, known as a sample, is utilised to make conclusions about the population as a whole. Using sample data, estimation statistics allows us to generate educated judgements or estimates about population parameters.\n",
    "\n",
    "Estimation Statists are of two types:\n",
    "\n",
    "1. Point Estimation: Point estimation involves estimating a population parameter with a single, specific value based on sample data. This single value is often referred to as a point estimate. \n",
    "The most common point estimate for the population mean (μ) is the sample mean (x̄), which is calculated as the sum of the sample values divided by the sample size.\n",
    "\n",
    "2. Interval Estimation:Interval estimation, also known as confidence interval estimation, provides a range of values within which the population parameter is likely to fall, along with a level of confidence.\n",
    "A confidence interval consists of two values: an upper limit and a lower limit. It is typically expressed as (L, U), where L is the lower limit and U is the upper limit.\n",
    "\n"
   ]
  },
  {
   "cell_type": "markdown",
   "metadata": {},
   "source": [
    "Q2. Write a Python function to estimate the population mean using a sample mean and standard\n",
    "deviation."
   ]
  },
  {
   "cell_type": "code",
   "execution_count": 1,
   "metadata": {},
   "outputs": [
    {
     "name": "stdout",
     "output_type": "stream",
     "text": [
      "Estimated Population Mean: 50.0\n"
     ]
    }
   ],
   "source": [
    "def estimate_population_mean(sample_mean, sample_stddev, sample_size):\n",
    "    population_mean = sample_mean * (sample_size ** 0.5) / sample_stddev\n",
    "    return population_mean\n",
    "\n",
    "sample_mean = 50  \n",
    "sample_stddev = 10  \n",
    "sample_size = 100  \n",
    "\n",
    "population_mean = estimate_population_mean(sample_mean, sample_stddev, sample_size)\n",
    "print(\"Estimated Population Mean:\", population_mean)"
   ]
  },
  {
   "cell_type": "markdown",
   "metadata": {},
   "source": [
    "Q3. What is Hypothesis testing? Why is it used? State the importance of Hypothesis testing."
   ]
  },
  {
   "cell_type": "markdown",
   "metadata": {},
   "source": [
    "Ans. A statistical strategy for making inferences or drawing conclusions about a population based on a sample of data is hypothesis testing. It is a fundamental statistical approach that is frequently utilised in domains like as science, engineering, economics, medicine, and social sciences. Hypothesis testing assists researchers and analysts in making judgements and reaching findings regarding the validity of various assumptions or hypotheses.\n",
    "\n",
    "Importance of hypothesis testing is:\n",
    "1. Scientific Validity\n",
    "2. Decision making\n",
    "3. Quality Control\n",
    "4. Medical Research\n",
    "5. Ethical Considerations\n",
    "6. Industrial Process Improvement\n",
    "7. Statistical Analysis in Social Sciences and Business\n",
    "8. Data Collection, Management & Analysis\n",
    "9. Cost Savings\n",
    "10. Economic Impact"
   ]
  },
  {
   "cell_type": "markdown",
   "metadata": {},
   "source": [
    "Q4.Create a hypothesis that states whether the average weight of male college students is greater than\n",
    "the average weight of female college students."
   ]
  },
  {
   "cell_type": "markdown",
   "metadata": {},
   "source": [
    "Ans. Null Hypothesis (H0):\n",
    "The average weight of male college students is equal to or less than the average weight of female college students.\n",
    "\n",
    "Alternative Hypothesis (Ha or H1):\n",
    "The average weight of male college students is greater than the average weight of female college students."
   ]
  },
  {
   "cell_type": "markdown",
   "metadata": {},
   "source": [
    "Q5. Write a Python script to conduct a hypothesis test on the difference between two population means,\n",
    "given a sample from each population."
   ]
  },
  {
   "cell_type": "code",
   "execution_count": 2,
   "metadata": {},
   "outputs": [
    {
     "name": "stdout",
     "output_type": "stream",
     "text": [
      "Sample 1 Mean: 71.4\n",
      "Sample 2 Mean: 66.2\n",
      "Test Statistic (t): 5.382511362870366\n",
      "P-value: 4.0878719537048065e-05\n",
      "Reject the null hypothesis: There is a significant difference between the means.\n"
     ]
    }
   ],
   "source": [
    "import numpy as np\n",
    "from scipy import stats\n",
    "\n",
    "# Sample data for two populations (replace with your actual data)\n",
    "population1 = np.array([68, 72, 74, 70, 69, 71, 73, 75, 72, 70])\n",
    "population2 = np.array([63, 66, 65, 68, 64, 67, 66, 68, 70, 65])\n",
    "\n",
    "# Set the significance level (alpha)\n",
    "alpha = 0.05\n",
    "\n",
    "# Perform a two-sample t-test\n",
    "t_statistic, p_value = stats.ttest_ind(population1, population2)\n",
    "\n",
    "# Print the results\n",
    "print(\"Sample 1 Mean:\", np.mean(population1))\n",
    "print(\"Sample 2 Mean:\", np.mean(population2))\n",
    "print(\"Test Statistic (t):\", t_statistic)\n",
    "print(\"P-value:\", p_value)\n",
    "\n",
    "# Check if the p-value is less than the significance level\n",
    "if p_value < alpha:\n",
    "    print(\"Reject the null hypothesis: There is a significant difference between the means.\")\n",
    "else:\n",
    "    print(\"Fail to reject the null hypothesis: There is no significant difference between the means.\")\n"
   ]
  },
  {
   "cell_type": "markdown",
   "metadata": {},
   "source": [
    "Q6: What is a null and alternative hypothesis? Give some examples.\n",
    "\n",
    "Ans. Null Hypothesis: \n",
    "The null hypothesis is a declaration that there is no impact, difference, or link.\n",
    "It symbolises the status quo or a default assumption that no meaningful change or effect is occurring in the population.\n",
    "It is often expressed as an equality assertion, implying that any observable difference or impact is attributable to random variability or chance.\n",
    "\n",
    "Alternative Hypothesis: \n",
    "In a statistical inference experiment, a statement is called the alternative hypothesis. It is represented by Ha or H1 and is in conflict with the null hypothesis. It may also be stated that it is only a substitute for the null. An alternative theory is a claim that a researcher is examining in hypothesis testing. From the perspective of the researcher, this assertion is accurate and eventually demonstrates the rejection of the null hypothesis in favour of a different hypothesis.\n",
    "\n",
    "Example:\n",
    "The purpose of the observation is for the researchers to evaluate the river's water quality over a 12-month period. According to the null hypothesis, the water quality does not differ between the first and second halves of the year. However, the alternate theory states that the observed water quality is low in the second half."
   ]
  },
  {
   "cell_type": "markdown",
   "metadata": {},
   "source": [
    "Q7: Write down the steps involved in hypothesis testing.\n",
    "Ans. Steps invloved in hypothesis testing are :\n",
    "\n",
    "1. Formulate the Hypotheses:\n",
    "Null Hypothesis- This is the statement you assume to be true and want to test against the data. It usually states \"no difference\" or \"no effect\". \n",
    "Alternative Hypothesis- This is the statement you hope the data will support, often the opposite of H0. It states the actual effect you suspect.\n",
    "\n",
    "2. Set the significance level (α):\n",
    "This determines how much risk you are willing to take in rejecting the null hypothesis when it is actually true.Common alpha levels are 0.05 (5%) and 0.10 (10%).\n",
    "\n",
    "3. Collect and analyze data:\n",
    "Collect information from a representative sample of the target demographic.\n",
    "In order to analyse the data, choose and run the relevant statistical tests, taking your research topic and data type into consideration.\n",
    "\n",
    "4. Calculate the test statistic and p-value:\n",
    "The test statistic measures the strength of evidence against the null hypothesis.\n",
    "The p-value is the probability of getting a test statistic at least as extreme as the one observed, assuming the null hypothesis is true.\n",
    "\n",
    "5. Make a decision based on the p-value:\n",
    "You conclude that your data supports the alternative hypothesis and reject the null hypothesis if the p-value is smaller than α.\n",
    "You are unable to reject the null hypothesis if the p-value is higher than α. This only indicates that you don't have enough evidence to rule out H0, not that it is untrue.\n",
    "\n",
    "6. Interpret the results:\n",
    "Think about the constraints of your research and any counterarguments to your results.\n",
    "In light of your findings, formulate conclusions regarding your research question that take into account both scenarios (rejecting or failing to reject H0)."
   ]
  },
  {
   "cell_type": "markdown",
   "metadata": {},
   "source": [
    "Q8. Define p-value and explain its significance in hypothesis testing.\n",
    "Ans. A statistical metric known as a p-value is employed to evaluate a hypothesis through a comparison with the observed data. This article explores the meaning, computation, and interpretation of the p-value. It also examines the variables that affect the p-value and draws attention to its drawbacks. The goal is to present a thorough knowledge of p-value and its function in testing hypotheses and analysing data.\n",
    "\n",
    "Signifcance of p value in hypothesis testing:\n",
    "\n",
    "The lower the p-value, the less likely it is that the observed results are due to chance under the null hypothesis. This means there is stronger evidence for the alternative hypothesis (Ha), which usually suggests a real effect or difference.\n",
    "\n",
    "Common thresholds for significance:\n",
    "1% - alpha = 0.01 (usually considered significant)\n",
    "p < 0.05: Usually considered statistically significant, suggesting strong evidence against the null hypothesis.\n",
    "0.05 < p < 0.10: Sometimes considered marginal significance, requiring further investigation and cautious interpretation.\n",
    "p > 0.10: Generally not considered statistically significant, indicating weak evidence against the null hypothesis."
   ]
  },
  {
   "cell_type": "markdown",
   "metadata": {},
   "source": [
    "Q9. Generate a Student's t-distribution plot using Python's matplotlib library, with the degrees of freedom \n",
    "parameter set to 10."
   ]
  },
  {
   "cell_type": "code",
   "execution_count": 7,
   "metadata": {},
   "outputs": [
    {
     "data": {
      "image/png": "[encoded data removed]",
      "text/plain": [
       "<Figure size 640x480 with 1 Axes>"
      ]
     },
     "metadata": {},
     "output_type": "display_data"
    }
   ],
   "source": [
    "import matplotlib.pyplot as plt\n",
    "import numpy as np\n",
    "from scipy.stats import t\n",
    "df = 10\n",
    "x = np.linspace(-5, 5, 200)\n",
    "y = t.pdf(x, df)\n",
    "plt.plot(x, y, label=\"Student's t-distribution (df=10)\")\n",
    "plt.xlabel(\"x\")\n",
    "plt.ylabel(\"Probability Density\")\n",
    "plt.title(\"Student's t-Distribution with Degrees of Freedom = 10\")\n",
    "plt.grid(True)\n",
    "plt.show()\n"
   ]
  },
  {
   "cell_type": "markdown",
   "metadata": {},
   "source": [
    "Q10. Write a Python program to calculate the two-sample t-test for independent samples, given two \n",
    "random samples of equal size and a null hypothesis that the population means are equal."
   ]
  },
  {
   "cell_type": "code",
   "execution_count": 8,
   "metadata": {},
   "outputs": [
    {
     "name": "stdout",
     "output_type": "stream",
     "text": [
      "t-statistic: -0.5\n",
      "p-value: 0.6305360755569764\n",
      "The null hypothesis is not rejected. There is no significant difference between the means of the two samples.\n"
     ]
    }
   ],
   "source": [
    "import numpy as np\n",
    "from scipy.stats import ttest_ind\n",
    "\n",
    "# Define the two samples\n",
    "sample1 = [10, 12, 14, 16, 18]\n",
    "sample2 = [11, 13, 15, 17, 19]\n",
    "\n",
    "# Calculate the t-statistic and p-value\n",
    "t_statistic, p_value = ttest_ind(sample1, sample2, equal_var=False)\n",
    "\n",
    "# Print the results\n",
    "print(\"t-statistic:\", t_statistic)\n",
    "print(\"p-value:\", p_value)\n",
    "\n",
    "# Check if the null hypothesis is rejected\n",
    "if p_value < 0.05:\n",
    "    print(\"The null hypothesis is rejected. There is a significant difference between the means of the two samples.\")\n",
    "else:\n",
    "    print(\"The null hypothesis is not rejected. There is no significant difference between the means of the two samples.\")"
   ]
  },
  {
   "cell_type": "markdown",
   "metadata": {},
   "source": [
    "Q11. What is Student’s t distribution? When to use the t-Distribution?\n",
    "Ans. When the sample size is small and the population standard deviation is unknown, inferential statistics employ the Student's t distribution, sometimes referred to as the t-distribution, which is a probability distribution. Similar to the normal distribution, it has a bell-shaped distribution, but because its tails are broader, it is more prone to yield extreme values.\n",
    "\n",
    "Usage of T-distribution:\n",
    "1. **Sample Size:** The t-distribution is typically used when the sample size is small, usually less than 30. This is because the t-distribution becomes more similar to the normal distribution as the sample size increases.\n",
    "\n",
    "2. **Population Standard Deviation Unknown:** The t-distribution is used when the population standard deviation (σ) is unknown. In such cases, the sample standard deviation (s) is used as an estimate of the population standard deviation.\n",
    "\n",
    "3. **Hypothesis Testing:** The t-distribution is commonly used in hypothesis testing, particularly when testing the significance of a difference between two sample means. For example, in a two-sample t-test, the t-distribution is used to determine if there is a statistically significant difference between the means of two independent groups.\n",
    "\n",
    "4. **Confidence Intervals:** The t-distribution is also used to construct confidence intervals for population parameters, such as the mean. A confidence interval provides a range of values within which the true population parameter is likely to fall.\n",
    "\n",
    "5. **Regression Analysis:** In regression analysis, the t-distribution is used to test the significance of individual regression coefficients and to determine the overall goodness-of-fit of the regression model.\n",
    "\n",
    "6. **Analysis of Variance (ANOVA):** The t-distribution is used in ANOVA to test the significance of differences between group means. It is used to determine if there is a statistically significant difference between the means of multiple groups."
   ]
  },
  {
   "cell_type": "markdown",
   "metadata": {},
   "source": [
    "Q12: What is t-statistic? State the formula for t-statistic.\n",
    "Ans.  The t-statistic is a measure of the difference between the sample mean and the hypothesized population mean, divided by the standard error of the mean. It is used to determine whether the difference between the sample mean and the hypothesized population mean is statistically significant.\n",
    "\n",
    "The formula for the t-statistic is:\n",
    "\n",
    "t = (x̄ - μ) / (s / √n)\n",
    "\n",
    "\n",
    "where:\n",
    "\n",
    "* x̄ is the sample mean\n",
    "* μ is the hypothesized population mean\n",
    "* s is the sample standard deviation\n",
    "* n is the sample size\n",
    "\n",
    "The t-statistic follows a t-distribution with n-1 degrees of freedom. The p-value for the t-test is the probability of getting a t-statistic as extreme as or more extreme than the observed t-statistic, assuming that the null hypothesis is true. If the p-value is less than the significance level, then the null hypothesis is rejected and it is concluded that the difference between the sample mean and the hypothesized population mean is statistically significant."
   ]
  },
  {
   "cell_type": "markdown",
   "metadata": {},
   "source": [
    "Q13. A coffee shop owner wants to estimate the average daily revenue for their shop. They take a random \n",
    "sample of 50 days and find the sample mean revenue to be $500 with a standard deviation of $50. \n",
    "Estimate the population mean revenue with a 95% confidence interval.\n",
    "Ans. Find the critical value for a 95% confidence interval with 49 degrees of freedom (50 - 1)\n",
    "\n",
    "Using a standard normal distribution table or calculator, we find that the critical value (z-score) for a 95% confidence interval with 49 degrees of freedom is 1.96.\n",
    "\n",
    "Calculate the standard error of the mean\n",
    "\n",
    "The standard error of the mean (SEM) is the standard deviation of the sampling distribution of the mean. It is calculated by dividing the standard deviation by the square root of the sample size: \n",
    "\n",
    "SEM = s / √n\n",
    "\n",
    "SEM = $50 / √50\n",
    "\n",
    "SEM = $7.07\n",
    "\n",
    "Calculate the margin of error\n",
    "\n",
    "The margin of error (ME) is the maximum amount by which the sample mean is likely to differ from the population mean. It is calculated by multiplying the critical value by the standard error of the mean:\n",
    "\n",
    "ME = z * SEM\n",
    "\n",
    "ME = 1.96 * $7.07\n",
    "\n",
    "ME = $13.84\n",
    "\n",
    "Construct the confidence interval\n",
    "\n",
    "The confidence interval is the range of values within which the population mean is likely to fall. It is calculated by adding and subtracting the margin of error from the sample mean:\n",
    "\n",
    "500 ± 13.84 = (486.16, 513.84)\n",
    "\n",
    "Therefore, we can be 95% confident that the average daily revenue for the coffee shop is between $486.16 and $513.84."
   ]
  },
  {
   "cell_type": "markdown",
   "metadata": {},
   "source": [
    "Q14. A researcher hypothesizes that a new drug will decrease blood pressure by 10 mmHg. They conduct a \n",
    "clinical trial with 100 patients and find that the sample mean decrease in blood pressure is 8 mmHg with a \n",
    "standard deviation of 3 mmHg. Test the hypothesis with a significance level of 0.05.\n",
    "\n",
    "Ans. **Null Hypothesis:** H0: μ = 10 mmHg (The new drug will decrease blood pressure by 10 mmHg)\n",
    "\n",
    "**Alternative Hypothesis:** Ha: μ < 10 mmHg (The new drug will decrease blood pressure by less than 10 mmHg)\n",
    "\n",
    "**Significance Level:** α = 0.05\n",
    "\n",
    "**Test Statistic:** \n",
    "T = (x̄ - μ) / (s / √n)\n",
    "\n",
    "where x̄ is the sample mean, μ is the hypothesized mean, s is the sample standard deviation, and n is the sample size.\n",
    "\n",
    "**Plugging in the values:** \n",
    "T = (8 - 10) / (3 / √100) = -2.89\n",
    "\n",
    "**Degrees of Freedom:** ν = n - 1 = 99\n",
    "\n",
    "**P-value:** \n",
    "P-value = P(T < -2.89) = 0.002\n",
    "\n",
    "**Decision:** \n",
    "Since the P-value (0.002) is less than the significance level (0.05), we reject the null hypothesis. This means that there is sufficient evidence to conclude that the new drug decreases blood pressure by less than 10 mmHg."
   ]
  },
  {
   "cell_type": "markdown",
   "metadata": {},
   "source": [
    "Q15. An electronics company produces a certain type of product with a mean weight of 5 pounds and a \n",
    "standard deviation of 0.5 pounds. A random sample of 25 products is taken, and the sample mean weight \n",
    "is found to be 4.8 pounds. Test the hypothesis that the true mean weight of the products is less than 5 \n",
    "pounds with a significance level of 0.01.\n",
    "\n",
    "Ans. Null hypotheis = 5\n",
    "Alternative Hypothesis = <5\n",
    "Significance Level (alpha) = 0.01\n",
    "Sample Mean = 4.8\n",
    "Standard Deviation = 0.5\n",
    "Test Statistic = t-score = -2\n",
    "Degrees of Freedom = n-1 = 24\n",
    "then critical t-value is approximately -2.492\n",
    "Since -2 is greater than -2.492, we fail to reject the null hypothesis\n",
    "**Conclusion**\n",
    "At the 0.01 significance level, there is not enough evidence to conclude that the true mean weight of the products is less than 5 pounds."
   ]
  },
  {
   "cell_type": "markdown",
   "metadata": {},
   "source": [
    "Q16. Two groups of students are given different study materials to prepare for a test. The first group (n1=30) has a mean score of 80 with a standard deviation of 10, and the second group (n2 = 40) has a mean \n",
    "score of 75 with a standard deviation of 8. Test the hypothesis that the population means for the two \n",
    "groups are equal with a significance level of 0.01\n",
    "Ans. Null Hypotheis u1=u2\n",
    "Alternate Hypothesis u1!=u2\n",
    "Significance level (α): 0.01\n",
    "Group 1:\n",
    "Sample mean: 80\n",
    "Sample standard deviation: 10\n",
    "Sample size: 30\n",
    "Group 2:\n",
    "Sample mean: 85\n",
    "Sample standard deviation: 8\n",
    "Sample size: 40\n",
    "\n",
    "Test Statistics: 2.25\n",
    "Critical region: 0.0058"
   ]
  },
  {
   "cell_type": "markdown",
   "metadata": {},
   "source": [
    "Q17. A marketing company wants to estimate the average number of ads watched by viewers during a TV \n",
    "program. They take a random sample of 50 viewers and find that the sample mean is 4 with a standard \n",
    "deviation of 1.5. Estimate the population mean with a 99% confidence interval.\n",
    "Ans.\n",
    "smaple mean =4\n",
    "sample std dev=1.5\n",
    "population size= 50\n",
    "confidence level = .99\n",
    "z score for 99% ci = 2.576 (from z-table)\n",
    "so,\n",
    "confidence interval is in between 4-0.5465 and 4+0.5465\n",
    "therefore, the estimated population mean is between 3.435 and 4.5465"
   ]
  }
 ],
 "metadata": {
  "kernelspec": {
   "display_name": "Python 3",
   "language": "python",
   "name": "python3"
  },
  "language_info": {
   "codemirror_mode": {
    "name": "ipython",
    "version": 3
   },
   "file_extension": ".py",
   "mimetype": "text/x-python",
   "name": "python",
   "nbconvert_exporter": "python",
   "pygments_lexer": "ipython3",
   "version": "3.11.5"
  }
 },
 "nbformat": 4,
 "nbformat_minor": 2
}
