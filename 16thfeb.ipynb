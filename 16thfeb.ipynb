{
 "cells": [
  {
   "attachments": {},
   "cell_type": "markdown",
   "metadata": {},
   "source": [
    "1. What is a database? Differentiate between SQL and NoSQL databases.\n",
    "Ans. A database is a structured collection of data that is stored and organized in a way that allows for    efficient retrieval and manipulation of information.Data is organized into tables, which consist of rows and columns. Each row represents a single record, while each column represents an attribute or field of the record\n",
    "SQL- 1. It is stands for (structured querry language).\n",
    "     2. Relational database management system.\n",
    "     3. Vertically scalable.\n",
    "     4. Fixed or predefined schemas.\n",
    "     5. Not suitable for heirarchical data storage. \n",
    "     6. can be use for complex queries.\n",
    "NoSQL- 1. It is stands for (non-structured querry language).\n",
    "       2. Distributed Datamanagement system.\n",
    "       3. Horizontally Scalable.\n",
    "       4. Dynamic Schemas.\n",
    "       5. Best sutable heirarchical for data storage.\n",
    "       6. Not good for complex queries."
   ]
  },
  {
   "attachments": {},
   "cell_type": "markdown",
   "metadata": {},
   "source": [
    "2. What is DDL? Explain why CREATE, DROP, ALTER, and TRUNCATE are used with an example.\n",
    "Ans. DDL stands for Data Definition Language, which is a set of SQL commands used to define and manage the structure of a database, including tables, indexes, and constraints.\n",
    "\n",
    "CREATE: It is used to create a new database object such as table, index, or view.\n",
    "DROP: It is used to drop an existing database object.\n",
    "ALTER: It is used to change the structure of an existing database object.\n",
    "TRUNCATE: It is used to truncate the contents of an existing database object."
   ]
  },
  {
   "attachments": {},
   "cell_type": "markdown",
   "metadata": {},
   "source": [
    "3. What is DML? Explain INSERT, UPDATE, and DELETE with an example.\n",
    "Ans. DML stands for Data Manupulation Langauage, which is a set of SQL commands used to manipulate data within a database, including inserting, updating, and deleting data.\n",
    "\n",
    "INSERT: It is used to insert new data into a table.\n",
    "UPDATE: It is used to update existing data in a table.\n",
    "DELETE: It is used to delete existing data in a table."
   ]
  },
  {
   "attachments": {},
   "cell_type": "markdown",
   "metadata": {},
   "source": [
    "4. What is DQL? Explain SELECT with an example.\n",
    "Ans. DQL stands for Data Query Language, which is a set of SQL commands used to retrieve data from a database.\n",
    "\n",
    "SELECT: It is used to retrieve data from one or more tables based on specific conditions.\n",
    "\n",
    "SELECT brand, model, price\n",
    "FROM car\n",
    "WHERE price <= 30;\n"
   ]
  },
  {
   "attachments": {},
   "cell_type": "markdown",
   "metadata": {},
   "source": [
    "5. Explain Primary Key and Foreign Key.\n",
    "Ans. Primary Key: It is a unique identifier for each record in a table, which is used to ensure that each record can be identified and accessed quickly and efficiently. A primary key can be a single column or a combination of columns, and it must be unique and non-null for each record in the table.\n",
    "\n",
    "Foreign Key: It is a column or set of columns in one table that references the primary key of another table, establishing a relationship between the two tables.It ensures that data in one table is related to data in another table, and it can be used to enforce referential integrity, which ensures that data in related tables remains consistent."
   ]
  },
  {
   "attachments": {},
   "cell_type": "markdown",
   "metadata": {},
   "source": [
    "6. Write a python code to connect MySQL to python. Explain the cursor() and execute() method.\n",
    "Ans.  import mysql.connector\n",
    "\n",
    "mydb = mysql.connector.connect(\n",
    "  host=\"localhost\",\n",
    "  user=\"yourusername\",\n",
    "  password=\"yourpassword\",\n",
    "  database=\"yourdatabase\"\n",
    ")\n",
    "mycursor = mydb.cursor()\n",
    "mycursor.execute(\"SELECT * FROM customers\")\n",
    "myresult = mycursor.fetchall()\n",
    "for x in myresult:\n",
    "  print(x)\n",
    "\n",
    "\n",
    "cursor(): A cursor is an object that allows us to execute SQL queries and fetch the results.\n",
    "execute(): The execute() method is used to execute a SQL query on the database using the cursor object."
   ]
  },
  {
   "attachments": {},
   "cell_type": "markdown",
   "metadata": {},
   "source": [
    "7. Give the order of execution of SQL clauses in an SQL query.\n",
    "Ans. The clauses in SQL are ordered in a specific order are as follow:\n",
    "\n",
    "1. FROM clause: This clause is executed first and specifies the table(s) from which the data is to be retrieved.\n",
    "\n",
    "2. WHERE clause: This clause is executed after the FROM clause and is used to filter the data based on a condition.\n",
    "\n",
    "3. GROUP BY clause: This clause is executed next and is used to group the data based on one or more columns.\n",
    "\n",
    "4. HAVING clause: This clause is executed after the GROUP BY clause and is used to filter the data based on a condition that applies to groups.\n",
    "\n",
    "5. SELECT clause: This clause is executed next and is used to select the columns to be included in the result set.\n",
    "\n",
    "6. DISTINCT clause: This clause is executed after the SELECT clause and is used to eliminate duplicate rows from the result set.\n",
    "\n",
    "7. ORDER BY clause: This clause is executed after the SELECT or DISTINCT clause and is used to sort the result set based on one or more columns.\n",
    "\n",
    "8. LIMIT clause: This clause is executed last and is used to limit the number of rows returned by the query."
   ]
  }
 ],
 "metadata": {
  "language_info": {
   "name": "python"
  },
  "orig_nbformat": 4
 },
 "nbformat": 4,
 "nbformat_minor": 2
}
