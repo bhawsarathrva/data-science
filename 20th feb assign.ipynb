{
 "cells": [
  {
   "attachments": {},
   "cell_type": "markdown",
   "metadata": {},
   "source": [
    "1. Explain GET and POST methods.\n",
    "Ans. GET: The client uses the GET request technique to get resources from the server. Using a URL, it is frequently used to retrieve data from a server. Data is retrieved from the server and sent back to the client when a GET request is made.\n",
    "\n",
    "POST: Data submission to the server by the client using the POST request mechanism. When a user submits a form and the server needs to handle the input, it is frequently used. The information is delivered in the request body and not in the URL when a POST request is made."
   ]
  },
  {
   "attachments": {},
   "cell_type": "markdown",
   "metadata": {},
   "source": [
    "2. Why is request used in Flask?\n",
    "Ans. The Flask framework's Request module allows users access to the data from incoming HTTP requests. It is used to obtain data such as form inputs, query parameters, cookies, and HTTP headers that clients send to servers via web browsers.\n",
    "\n",
    "The request module of the Flask framework is used to parse and process incoming HTTP requests and provide the data to the Flask application. This gives programmers the ability to manage and modify incoming data and provide dynamic responses based on it.\n"
   ]
  },
  {
   "attachments": {},
   "cell_type": "markdown",
   "metadata": {},
   "source": [
    "3. Why is redirect() used in Flask?\n",
    "Ans. In Flask, the redirect() function can be used to redirect the user to a different route or URL within the application.This is helpful for implementing authentication features, wherein the user must be forwarded to a login page if they are not authorised to access a particular page.\n",
    "\n",
    "The URL or route to which the user should be forwarded is the only argument to the redirect() function. For instance, redirect('/login') will direct the user to the Flask application's login page."
   ]
  },
  {
   "attachments": {},
   "cell_type": "markdown",
   "metadata": {},
   "source": [
    "4. What are templates in Flask? Why is the render_template() function used?\n",
    "Ans. Using dynamic data from the Flask application, dynamic HTML pages can be rendered using Flask templates. In essence, they are HTML files with placeholders for dynamic content produced at runtime by the Flask application.\n",
    "\n",
    "The Flask framework includes a built-in function called render_template() that is utilised to render templates and insert dynamic data into HTML pages. The name of the template file to render and any additional data to send to the template are the two inputs this function requires."
   ]
  },
  {
   "attachments": {},
   "cell_type": "markdown",
   "metadata": {},
   "source": [
    "5. Create a simple API. Use Postman to test it. Attach the screenshot of the output in the Jupyter Notebook.\n",
    "Ans."
   ]
  },
  {
   "cell_type": "code",
   "execution_count": 1,
   "metadata": {},
   "outputs": [
    {
     "ename": "ModuleNotFoundError",
     "evalue": "No module named 'flask'",
     "output_type": "error",
     "traceback": [
      "\u001b[1;31m---------------------------------------------------------------------------\u001b[0m",
      "\u001b[1;31mModuleNotFoundError\u001b[0m                       Traceback (most recent call last)",
      "Cell \u001b[1;32mIn[1], line 1\u001b[0m\n\u001b[1;32m----> 1\u001b[0m \u001b[39mfrom\u001b[39;00m \u001b[39mflask\u001b[39;00m \u001b[39mimport\u001b[39;00m Flask, jsonify\n\u001b[0;32m      3\u001b[0m app \u001b[39m=\u001b[39m Flask(\u001b[39m__name__\u001b[39m)\n\u001b[0;32m      5\u001b[0m \u001b[39m@app\u001b[39m\u001b[39m.\u001b[39mroute(\u001b[39m'\u001b[39m\u001b[39m/\u001b[39m\u001b[39m'\u001b[39m)\n\u001b[0;32m      6\u001b[0m \u001b[39mdef\u001b[39;00m \u001b[39mhello\u001b[39m():\n",
      "\u001b[1;31mModuleNotFoundError\u001b[0m: No module named 'flask'"
     ]
    }
   ],
   "source": [
    "from flask import Flask, jsonify\n",
    "\n",
    "app = Flask(__name__)\n",
    "\n",
    "@app.route('/')\n",
    "def hello():\n",
    "    message = {'message': 'Hello, World!'}\n",
    "    return jsonify(message)\n",
    "\n",
    "if __name__ == '__main__':\n",
    "    app.run(debug=True)"
   ]
  },
  {
   "cell_type": "code",
   "execution_count": null,
   "metadata": {},
   "outputs": [],
   "source": []
  }
 ],
 "metadata": {
  "kernelspec": {
   "display_name": "Python 3",
   "language": "python",
   "name": "python3"
  },
  "language_info": {
   "codemirror_mode": {
    "name": "ipython",
    "version": 3
   },
   "file_extension": ".py",
   "mimetype": "text/x-python",
   "name": "python",
   "nbconvert_exporter": "python",
   "pygments_lexer": "ipython3",
   "version": "3.11.0"
  },
  "orig_nbformat": 4
 },
 "nbformat": 4,
 "nbformat_minor": 2
}
