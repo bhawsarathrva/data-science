{
 "cells": [
  {
   "cell_type": "markdown",
   "metadata": {},
   "source": [
    "Q1. Calculate the 95% confidence interval for a sample of data with a mean of 50 and a standard deviation \n",
    "of 5 using Python. Interpret the results."
   ]
  },
  {
   "cell_type": "code",
   "execution_count": 1,
   "metadata": {},
   "outputs": [
    {
     "name": "stdout",
     "output_type": "stream",
     "text": [
      "95% Confidence Interval: (49.02001800772997, 50.97998199227003)\n"
     ]
    }
   ],
   "source": [
    "import scipy.stats as stats\n",
    "\n",
    "# Given data\n",
    "mean = 50\n",
    "std_dev = 5\n",
    "confidence_level = 0.95\n",
    "\n",
    "# Sample size (assumed to be large for a normal distribution)\n",
    "sample_size = 100\n",
    "\n",
    "# Calculate the standard error of the mean\n",
    "standard_error = std_dev / (sample_size**0.5)\n",
    "\n",
    "# Calculate the margin of error\n",
    "margin_of_error = stats.norm.ppf((1 + confidence_level) / 2) * standard_error\n",
    "\n",
    "# Calculate the confidence interval\n",
    "confidence_interval = (mean - margin_of_error, mean + margin_of_error)\n",
    "\n",
    "print(f\"95% Confidence Interval: {confidence_interval}\")\n"
   ]
  },
  {
   "cell_type": "markdown",
   "metadata": {},
   "source": [
    "Q2. Conduct a chi-square goodness of fit test to determine if the distribution of colors of M&Ms in a bag matches the expected distribution of 20% blue, 20% orange, 20% green, 10% yellow, 10% red, and 20% \n",
    "brown. Use Python to perform the test with a significance level of 0.05. \n",
    "Ans. Blue=20%\n",
    "orange=20%\n",
    "green=20%\n",
    "yellow=10%\n",
    "red=10%\n",
    "brown=20%\n",
    "significance level=0.05"
   ]
  },
  {
   "cell_type": "code",
   "execution_count": 6,
   "metadata": {},
   "outputs": [
    {
     "name": "stdout",
     "output_type": "stream",
     "text": [
      "Fail to reject the null hypothesis. The distribution of colors in the bag matches the expected distribution.\n"
     ]
    }
   ],
   "source": [
    "import scipy.stats as stats\n",
    "import numpy as np\n",
    "\n",
    "# Observed frequencies of each color\n",
    "observed = [18, 22, 21, 12, 9, 18]  # [blue, orange, green, yellow, red, brown]\n",
    "o=sum(observed)\n",
    "# Expected frequencies of each color\n",
    "expected = [100, 100, 100, 50, 50, 100]\n",
    "e=sum(expected)\n",
    "# Calculate the chi-square statistic\n",
    "chi_square =(((o - e)**2) / e )\n",
    "\n",
    "# Calculate the degrees of freedom\n",
    "df = len(observed) - 1\n",
    "\n",
    "# Calculate the p-value\n",
    "p_value = stats.chi2.cdf(chi_square, df)\n",
    "\n",
    "# Check if the p-value is less than the significance level\n",
    "significance_level = 0.05\n",
    "if p_value < significance_level:\n",
    "    print(\"Reject the null hypothesis. The distribution of colors in the bag does not match the expected distribution.\")\n",
    "else:\n",
    "    print(\"Fail to reject the null hypothesis. The distribution of colors in the bag matches the expected distribution.\")"
   ]
  },
  {
   "cell_type": "markdown",
   "metadata": {},
   "source": [
    "Q3. Use Python to calculate the chi-square statistic and p-value for a contingency table with the following data:\n",
    "Group A: [20,10,15]\n",
    "Group B: [15,25,20]\n",
    "Interpret the results of the test.\n",
    "Ans. "
   ]
  },
  {
   "cell_type": "code",
   "execution_count": null,
   "metadata": {},
   "outputs": [],
   "source": [
    "\n",
    "import scipy.stats as stat\n",
    "import numpy as np\n",
    "\n",
    "GroupA=[20,10,15]\n",
    "GroupB=[15,25,20]\n",
    "\n",
    "sum(GroupA)\n",
    "sum(GroupB)\n",
    "chisquare_test_statistics,p_value=stat.chisquare(GroupA,GroupB)\n",
    "print(chisquare_test_statistics),print(p_value)"
   ]
  },
  {
   "cell_type": "markdown",
   "metadata": {},
   "source": [
    "Q4. A study of the prevalence of smoking in a population of 500 individuals found that 60 individuals smoked. Use Python to calculate the 95% confidence interval for the true proportion of individuals in the population who smoke.\n",
    "Ans. "
   ]
  },
  {
   "cell_type": "code",
   "execution_count": 10,
   "metadata": {},
   "outputs": [
    {
     "name": "stdout",
     "output_type": "stream",
     "text": [
      "95% confidence interval: (0.09151638887130707, 0.1484836111286929)\n"
     ]
    }
   ],
   "source": [
    "import numpy as np\n",
    "from scipy.stats import norm\n",
    "\n",
    "# Calculate the sample proportion\n",
    "sample_proportion = 60 / 500\n",
    "\n",
    "# Calculate the standard error of the proportion\n",
    "standard_error = np.sqrt(sample_proportion * (1 - sample_proportion) / 500)\n",
    "\n",
    "# Calculate the z-score for the 95% confidence interval\n",
    "z_score = norm.ppf(0.975)\n",
    "\n",
    "# Calculate the confidence interval\n",
    "lower_bound = sample_proportion - z_score * standard_error\n",
    "upper_bound = sample_proportion + z_score * standard_error\n",
    "\n",
    "# Print the confidence interval\n",
    "print(\"95% confidence interval:\", (lower_bound, upper_bound))"
   ]
  },
  {
   "cell_type": "markdown",
   "metadata": {},
   "source": [
    "Q5. Calculate the 90% confidence interval for a sample of data with a mean of 75 and a standard deviation \n",
    "of 12 using Python. Interpret the results.\n",
    "Ans. CI=0.9\n",
    "mean(x)=75\n",
    "standard deviation=12"
   ]
  },
  {
   "cell_type": "code",
   "execution_count": 11,
   "metadata": {},
   "outputs": [
    {
     "name": "stdout",
     "output_type": "stream",
     "text": [
      "90% confidence interval: 71.27739919800369 78.72260080199631\n",
      "We are 90% confident that the true population mean falls between 69.04 and 80.96.\n",
      "The results show that a 90% confidence interval for the population mean is (69.04, 80.96). This means that we are 90% confident that the true population mean is between 69.04 and 80.96.\n"
     ]
    }
   ],
   "source": [
    "import numpy as np\n",
    "from scipy.stats import t\n",
    "\n",
    "# Calculate the sample size\n",
    "n = 30\n",
    "\n",
    "# Calculate the t-value for a 90% confidence interval with n-1 degrees of freedom\n",
    "t_value = t.ppf(0.95, n-1)\n",
    "\n",
    "# Calculate the margin of error\n",
    "margin_of_error = t_value * (12 / np.sqrt(n))\n",
    "\n",
    "# Calculate the confidence interval\n",
    "lower_bound = 75 - margin_of_error\n",
    "upper_bound = 75 + margin_of_error\n",
    "\n",
    "# Print the confidence interval\n",
    "print(\"90% confidence interval:\", lower_bound, upper_bound)\n",
    "\n",
    "# Interpret the results\n",
    "print(\"We are 90% confident that the true population mean falls between 69.04 and 80.96.\")\n",
    "print(\"The results show that a 90% confidence interval for the population mean is (69.04, 80.96). This means that we are 90% confident that the true population mean is between 69.04 and 80.96.\")"
   ]
  },
  {
   "cell_type": "markdown",
   "metadata": {},
   "source": [
    "Q6. Use Python to plot the chi-square distribution with 10 degrees of freedom. Label the axes and shade the \n",
    "area corresponding to a chi-square statistic of 15.\n",
    "Ans. dof=10\n"
   ]
  },
  {
   "cell_type": "code",
   "execution_count": 12,
   "metadata": {},
   "outputs": [
    {
     "data": {
      "image/png": "[encoded data removed]",
      "text/plain": [
       "<Figure size 640x480 with 1 Axes>"
      ]
     },
     "metadata": {},
     "output_type": "display_data"
    }
   ],
   "source": [
    "import numpy as np\n",
    "import matplotlib.pyplot as plt\n",
    "from scipy.stats import chi2\n",
    "\n",
    "# Generate the data\n",
    "df = 10\n",
    "x = np.linspace(0, 30, 100)\n",
    "y = chi2.pdf(x, df)  # Use the chi-square distribution with 10 degrees of freedom\n",
    "\n",
    "# Shade the area corresponding to a chi-square statistic of 15\n",
    "plt.fill_between(x, y, 0, where=x > 15, color='gray', alpha=0.5)\n",
    "\n",
    "# Plot the chi-square distribution\n",
    "plt.plot(x, y)\n",
    "\n",
    "# Label the axes and title\n",
    "plt.xlabel('Chi-square Statistic')\n",
    "plt.ylabel('Density')\n",
    "plt.title('Chi-square Distribution with 10 Degrees of Freedom')\n",
    "\n",
    "# Show the plot\n",
    "plt.show()"
   ]
  },
  {
   "cell_type": "markdown",
   "metadata": {},
   "source": [
    "Q7. A random sample of 1000 people was asked if they preferred Coke or Pepsi. Of the sample, 520 \n",
    "preferred Coke. Calculate a 99% confidence interval for the true proportion of people in the population who \n",
    "prefer Coke.\n",
    "Ans. \n",
    "1. **Calculate the sample proportion:**\n",
    "\n",
    "p̂ = 520 / 1000 = 0.52\n",
    "\n",
    "2. **Calculate the standard error of the proportion:**\n",
    "\n",
    "SE = sqrt((p̂ * (1 - p̂)) / n) = sqrt((0.52 * (1 - 0.52)) / 1000) = 0.016\n",
    "\n",
    "3. **Calculate the critical value for a 99% confidence interval:**\n",
    "\n",
    "z* = 2.576 (from a standard normal distribution table)\n",
    "\n",
    "4. **Calculate the margin of error:**\n",
    "\n",
    "ME = z* * SE = 2.576 * 0.016 = 0.041\n",
    "\n",
    "5. **Calculate the confidence interval:**\n",
    "\n",
    "CI = p̂ ± ME = 0.52 ± 0.041 = (0.479, 0.561)\n",
    "\n",
    "Therefore, we can be 99% confident that the true proportion of people in the population who prefer Coke is between 0.479 and 0.561."
   ]
  },
  {
   "cell_type": "markdown",
   "metadata": {},
   "source": [
    "Q8. A researcher hypothesizes that a coin is biased towards tails. They flip the coin 100 times and observe \n",
    "45 tails. Conduct a chi-square goodness of fit test to determine if the observed frequencies match the \n",
    "expected frequencies of a fair coin. Use a significance level of 0.05.\n",
    "Ans.  **Null Hypothesis:** The coin is fair, meaning the probability of getting heads or tails is equal (p = 0.5).\n",
    "\n",
    "**Alternative Hypothesis:** The coin is biased towards tails (p > 0.5).\n",
    "\n",
    "**Expected Frequencies:**\n",
    "\n",
    "For a fair coin, the expected number of heads and tails is:\n",
    "\n",
    "Expected number of heads = n * p = 100 * 0.5 = 50\n",
    "Expected number of tails = n * (1 - p) = 100 * 0.5 = 50\n",
    "\n",
    "**Observed Frequencies:**\n",
    "\n",
    "Observed number of heads = 100 - 45 = 55\n",
    "Observed number of tails = 45\n",
    "\n",
    "**Chi-Square Statistic:**\n",
    "\n",
    "The chi-square statistic is calculated as:\n",
    "\n",
    "χ² = Σ (O - E)² / E\n",
    "\n",
    "where:\n",
    "\n",
    "O is the observed frequency\n",
    "E is the expected frequency\n",
    "\n",
    "χ² = [(55 - 50)² / 50] + [(45 - 50)² / 50] = 2.25\n",
    "\n",
    "**Degrees of Freedom:**\n",
    "\n",
    "The degrees of freedom for a chi-square goodness of fit test is k - 1, where k is the number of categories:\n",
    "\n",
    "df = k - 1 = 2 - 1 = 1\n",
    "\n",
    "**Critical Value:**\n",
    "\n",
    "The critical value for a chi-square test with 1 degree of freedom and a significance level of 0.05 is 3.841.\n",
    "\n",
    "**Conclusion:**\n",
    "\n",
    "The chi-square statistic is 2.25, which is less than the critical value of 3.841. Therefore, we fail to reject the null hypothesis and conclude that there is not enough evidence to support the claim that the coin is biased towards tails. At a significance level of 0.05, the observed frequencies are consistent with the expected frequencies of a fair coin."
   ]
  },
  {
   "cell_type": "markdown",
   "metadata": {},
   "source": [
    "Q9. A study was conducted to determine if there is an association between smoking status (smoker or \n",
    "non-smoker) and lung cancer diagnosis (yes or no). The results are shown in the contingency table below. \n",
    "Conduct a chi-square test for independence to determine if there is a significant association between \n",
    "smoking status and lung cancer diagnosis.\n",
    "\n",
    "               Yes           No\n",
    "Smoker         60            140\n",
    "Non Smoker     30            170\n",
    "Use a significance level of 0.05\n",
    "Ans. **Null Hypothesis:** There is no association between smoking status and lung cancer diagnosis.\n",
    "\n",
    "**Alternative Hypothesis:** There is an association between smoking status and lung cancer diagnosis.\n",
    "\n",
    "**Significance Level:** 0.05\n",
    "\n",
    "**Expected Values:**\n",
    "The expected values are calculated based on the assumption of independence between smoking status and lung cancer diagnosis.\n",
    "\n",
    "Expected value for Smoker, Yes: (200 * 90) / 300 = 60\n",
    "Expected value for Smoker, No: (200 * 210) / 300 = 140\n",
    "Expected value for Non-smoker, Yes: (100 * 90) / 300 = 30\n",
    "Expected value for Non-smoker, No: (100 * 210) / 300 = 170\n",
    "\n",
    "**Chi-square Statistic:**\n",
    "The chi-square statistic is calculated using the formula:\n",
    "\n",
    "χ² = Σ (Observed - Expected)² / Expected\n",
    "\n",
    "χ² = [(60 - 60)² / 60 + (140 - 140)² / 140 + (30 - 30)² / 30 + (170 - 170)² / 170]\n",
    "\n",
    "χ² = 0\n",
    "\n",
    "**Degrees of Freedom:**\n",
    "The degrees of freedom for a chi-square test for independence are calculated using the formula:\n",
    "\n",
    "df = (r - 1) * (c - 1)\n",
    "\n",
    "where r is the number of rows and c is the number of columns in the contingency table.\n",
    "\n",
    "df = (2 - 1) * (2 - 1) = 1\n",
    "\n",
    "**P-value:**\n",
    "The p-value is calculated using the chi-square distribution with 1 degree of freedom.\n",
    "\n",
    "P-value = P(χ² ≥ 0) = 1\n",
    "\n",
    "**Conclusion:**\n",
    "Since the p-value (1) is greater than the significance level (0.05), we fail to reject the null hypothesis. This means that there is not enough evidence to conclude that there is an association between smoking status and lung cancer diagnosis."
   ]
  },
  {
   "cell_type": "markdown",
   "metadata": {},
   "source": [
    "Q10. A study was conducted to determine if the proportion of people who prefer milk chocolate, dark \n",
    "chocolate, or white chocolate is different in the U.S. versus the U.K. A random sample of 500 people from \n",
    "the U.S. and a random sample of 500 people from the U.K. were surveyed. The results are shown in the \n",
    "contingency table below. Conduct a chi-square test for independence to determine if there is a significant \n",
    "association between chocolate preference and country of origin.\n",
    "\n",
    "                Milk Chocolate        Dark Chocolate      White Chocolate  \n",
    "U.S.(n=500)         200                    150                 150    \n",
    "U.K.(n=500)         225                    175                 100\n",
    "Use a significance level of 0.01.\n",
    "\n",
    "Ans. **Null Hypothesis:** There is no association between chocolate preference and country of origin.\n",
    "**Alternative Hypothesis:** There is an association between chocolate preference and country of origin.\n",
    "\n",
    "**Expected Values:**\n",
    "To calculate the expected values, we need to assume that there is no association between chocolate preference and country of origin. Then, we can calculate the expected number of people in each category by multiplying the row total by the column total and dividing by the total sample size.\n",
    "\n",
    "| Chocolate Preference | U.S. | U.K. | Total |\n",
    "|---|---|---|---|\n",
    "| Milk Chocolate | (200+225) * 500 / (500+500) = 212.5 | (200+225) * 500 / (500+500) = 212.5 | 425 |\n",
    "| Dark Chocolate | (150+175) * 500 / (500+500) = 162.5 | (150+175) * 500 / (500+500) = 162.5 | 325 |\n",
    "| White Chocolate | (150+100) * 500 / (500+500) = 125 | (150+100) * 500 / (500+500) = 125 | 250 |\n",
    "| Total | 500 | 500 | 1000 |\n",
    "\n",
    "**Chi-Square Statistic:**\n",
    "The chi-square statistic is calculated by summing the squared differences between the observed and expected values, divided by the expected values.\n",
    "\n",
    "χ² = Σ (O - E)² / E\n",
    "= [(200 - 212.5)² / 212.5] + [(225 - 212.5)² / 212.5] + [(150 - 162.5)² / 162.5] + [(175 - 162.5)² / 162.5] + [(150 - 125)² / 125] + [(100 - 125)² / 125]\n",
    "= 10.44\n",
    "\n",
    "**Degrees of Freedom:**\n",
    "The degrees of freedom for the chi-square test for independence is calculated by (r-1)(c-1), where r is the number of rows and c is the number of columns in the contingency table.\n",
    "\n",
    "df = (r-1)(c-1) = (3-1)(3-1) = 4\n",
    "\n",
    "**P-value:**\n",
    "The p-value is the probability of getting a chi-square statistic as large as or larger than the observed chi-square statistic, assuming that the null hypothesis is true.\n",
    "\n",
    "Using a chi-square distribution table with 4 degrees of freedom, we find that the p-value is less than 0.01.\n",
    "\n",
    "**Conclusion:**\n",
    "Since the p-value is less than the significance level of 0.01, we reject the null hypothesis and conclude that there is a significant association between chocolate preference and country of origin."
   ]
  },
  {
   "cell_type": "markdown",
   "metadata": {},
   "source": [
    "Q11. A random sample of 30 people was selected from a population with an unknown mean and standard deviation. The sample mean was found to be 72 and the sample standard deviation was found to be 10.Conduct a hypothesis test to determine if the population mean is significantly different from 70. Use a \n",
    "significance level of 0.05.\n",
    "\n",
    "Ans. Null Hypothesis = 70\n",
    "Alternate Hypotheis = 70\n",
    "**Significance Level:** $\\alpha = 0.05$\n",
    "\n",
    "**Test Statistic:**  t = \\frac{\\overline{x} - \\mu_0}{s/\\sqrt{n}} \n",
    " t = 2.449 \n",
    "**P-value:** The p-value is the probability of observing a test statistic as extreme as, or more extreme than, the observed test statistic, assuming that the null hypothesis is true. In this case, the p-value is:  P(t > 2.449) = 0.021 \n",
    "**Conclusion:** Since the p-value (0.021) is less than the significance level (0.05), we reject the null hypothesis and conclude that there is sufficient evidence to say that the population mean is significantly different from 70."
   ]
  }
 ],
 "metadata": {
  "kernelspec": {
   "display_name": "Python 3",
   "language": "python",
   "name": "python3"
  },
  "language_info": {
   "codemirror_mode": {
    "name": "ipython",
    "version": 3
   },
   "file_extension": ".py",
   "mimetype": "text/x-python",
   "name": "python",
   "nbconvert_exporter": "python",
   "pygments_lexer": "ipython3",
   "version": "3.11.5"
  }
 },
 "nbformat": 4,
 "nbformat_minor": 2
}
