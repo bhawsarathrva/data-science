{
 "cells": [
  {
   "cell_type": "markdown",
   "metadata": {},
   "source": [
    "Q1. What is the Probability density function?"
   ]
  },
  {
   "cell_type": "markdown",
   "metadata": {},
   "source": [
    "Ans. A important idea in probability theory and statistics is the Probability Density Function (PDF). It describes the probability of a continuous random variable taking on a certain value within a given range. In other words, the PDF allows you to grasp the probability distribution across a continuous range of possible outcomes.\n",
    "\n",
    "P(a≤X≤b)=(a-b)∫f(x)dx\n",
    "\n",
    "The features of the random variable's distribution are determined by the form of the PDF. The normal distribution, uniform distribution, exponential distribution, and many others are common examples of probability distributions with well-known PDFs. distinct distributions have distinct forms, means, variances, and other qualities that allow them to be used to mimic a variety of real-world occurrences."
   ]
  },
  {
   "cell_type": "markdown",
   "metadata": {},
   "source": [
    "Q2. What are the types of Probability distribution?"
   ]
  },
  {
   "cell_type": "markdown",
   "metadata": {},
   "source": [
    "Ans. There are several types of probability distributions in statistics, each with its own unique characteristics and applications. These distributions are categorized into two main groups: discrete probability distributions and continuous probability distributions.\n",
    "\n",
    "a) Discrete probability distribution\n",
    "b) Contineous probability distribution\n",
    "\n",
    "1. Discrete probability Distributions:\n",
    "Discrete distributions are used to model random variables that can only take on distinct, separate values. The probability mass function (PMF) is used to describe the probabilities of these discrete values.\n",
    "\n",
    "Bernoulli Distribution: Models a binary outcome (success or failure) with a single parameter, often denoted as p.\n",
    "\n",
    "Binomial Distribution: Represents the number of successes in a fixed number of independent Bernoulli trials, with parameters n (number of trials) and p (probability of success).\n",
    "\n",
    "Poisson Distribution: Describes the number of events occurring in a fixed interval of time or space, often used for rare events with parameter λ (average rate of occurrence).\n",
    "\n",
    "Geometric Distribution: Represents the number of trials needed to achieve the first success in a sequence of Bernoulli trials, with parameter p.\n",
    "\n",
    "\n",
    "2. Continuous Probability Distribution:\n",
    "Continuous distributions model random variables that can take on any value within a certain range. The probability density function (PDF) is used to describe the likelihood of these continuous values.\n",
    "\n",
    "Normal (Gaussian) Distribution: Known for its symmetric bell-shaped curve, often used to model natural phenomena and measurement errors.\n",
    "\n",
    "Uniform Distribution: Represents a constant probability over a defined interval, with all values equally likely.\n",
    "\n",
    "Exponential Distribution: Describes the time between events in a Poisson process, often used for modeling time-to-failure or waiting times.\n",
    "\n",
    "Gamma Distribution: Generalizes the exponential distribution and is used to model waiting times, sum of exponential random variables, and more.\n",
    "\n",
    "Beta Distribution: Represents probabilities for values between 0 and 1, commonly used for modeling proportions or probabilities.\n",
    "\n",
    "Chi-Squared Distribution: Arises in the context of hypothesis testing and confidence intervals, often used in chi-squared tests.\n",
    "\n",
    "T-Distribution: Used when dealing with small sample sizes and when the population standard deviation is unknown, commonly used in t-tests.\n",
    "\n",
    "F-Distribution: Arises in the context of comparing variances of two or more populations, often used in analysis of variance (ANOVA) tests."
   ]
  },
  {
   "cell_type": "markdown",
   "metadata": {},
   "source": [
    "Q3. Write a Python function to calculate the probability density function of a normal distribution with\n",
    "given mean and standard deviation at a given point."
   ]
  },
  {
   "cell_type": "code",
   "execution_count": 9,
   "metadata": {},
   "outputs": [
    {
     "name": "stdout",
     "output_type": "stream",
     "text": [
      "PDF at 0: 0.17603266338214976\n"
     ]
    }
   ],
   "source": [
    "import math\n",
    "\n",
    "def normal_pdf(x, mu, sigma):\n",
    "    coefficient = 1 / (sigma * math.sqrt(2 * math.pi))\n",
    "    exponent = -0.5 * ((x - mu) / sigma) ** 2\n",
    "    pdf_value = coefficient * math.exp(exponent)\n",
    "    return pdf_value\n",
    "\n",
    "# Example usage\n",
    "mean = int(input(\"Enter the mean: \"))\n",
    "std_dev = int(input(\"Enter the std_dev: \"))\n",
    "point = int(input(\"Enter the point: \"))\n",
    "pdf_at_point = normal_pdf(point, mean, std_dev)\n",
    "print(f\"PDF at {point}: {pdf_at_point}\")\n"
   ]
  },
  {
   "cell_type": "markdown",
   "metadata": {},
   "source": [
    "Q4. What are the properties of Binomial distribution? Give two examples of events where binomial\n",
    "distribution can be applied."
   ]
  },
  {
   "cell_type": "markdown",
   "metadata": {},
   "source": [
    "Ans. The binomial distribution describes the number of successes in a specific number of independent Bernoulli trials. It is defined by two parameters: the number of tries ( n) and the success probability ( p). The binomial distribution has the following properties:\n",
    "\n",
    "Number of Trials: The distribution models a fixed number (n) of independent trials, each having two possible outcomes: success or failure.\n",
    "\n",
    "Independent Trials: Each trial is assumed to be independent of the others, meaning that the outcome of one trial does not affect the outcomes of the others.\n",
    "\n",
    "Probability of Success: Each trial has the same probability (p) of success. The probability of failure (1−p) is complementary to the probability of success.\n",
    "\n",
    "Discreteness: The binomial distribution is discrete, meaning that it deals with whole numbers (integers). It gives the probabilities for the number of successes out of n trials."
   ]
  },
  {
   "cell_type": "markdown",
   "metadata": {},
   "source": [
    "Q5. Generate a random sample of size 1000 from a binomial distribution with probability of success 0.4\n",
    "and plot a histogram of the results using matplotlib."
   ]
  },
  {
   "cell_type": "code",
   "execution_count": 9,
   "metadata": {},
   "outputs": [
    {
     "data": {
      "image/png": "[encoded data removed]",
      "text/plain": [
       "<Figure size 640x480 with 1 Axes>"
      ]
     },
     "metadata": {},
     "output_type": "display_data"
    }
   ],
   "source": [
    "import numpy as np\n",
    "import matplotlib.pyplot as plt\n",
    "\n",
    "sample_size = 1000\n",
    "probability_of_success = 0.1\n",
    "\n",
    "random_sample = np.random.binomial(n=1, p=probability_of_success, size=sample_size)\n",
    "\n",
    "#plotting a histogram\n",
    "\n",
    "plt.hist(random_sample, bins=2, edgecolor='black', alpha=0.7)\n",
    "plt.title('Histogram of Random Sample from Binomial Distribution')\n",
    "plt.xlabel('Success (1) / Failure (0)')\n",
    "plt.ylabel('Frequency')\n",
    "plt.xticks([0, 1], ['Failure', 'Success'])\n",
    "plt.grid(axis='y', alpha=0.75)\n",
    "plt.show()"
   ]
  },
  {
   "cell_type": "markdown",
   "metadata": {},
   "source": [
    "Q6. Write a Python function to calculate the cumulative distribution function of a Poisson distribution\n",
    "with given mean at a given point."
   ]
  },
  {
   "cell_type": "code",
   "execution_count": 3,
   "metadata": {},
   "outputs": [
    {
     "name": "stdout",
     "output_type": "stream",
     "text": [
      "CDF at point 5: 0.9999999748900085\n"
     ]
    }
   ],
   "source": [
    "from scipy.stats import poisson\n",
    "\n",
    "def poisson_cdf(mean, point):\n",
    "    return 1 - np.exp(-point * mean)\n",
    "\n",
    "mean = 3.5\n",
    "point = 5\n",
    "cdf = poisson_cdf(mean, point)\n",
    "print(f\"CDF at point {point}: {cdf}\")\n"
   ]
  },
  {
   "cell_type": "markdown",
   "metadata": {},
   "source": [
    "Q7. How Binomial distribution different from Poisson distribution?"
   ]
  },
  {
   "cell_type": "markdown",
   "metadata": {},
   "source": [
    "Ans. The Binomial distribution and the Poisson distribution are both probability distributions used to model discrete random variables in different scenarios. While they both deal with counting events, they have distinct characteristics and are applied in different situations. \n",
    "\n",
    "Number of Trials:\n",
    "\n",
    "Binomial Distribution: It describes the number of successes in a fixed number of independent Bernoulli trials (experiments), where each trial has two possible outcomes: success (probability of success denoted as \"p\") or failure (probability of failure denoted as \"q = 1 - p\").\n",
    "\n",
    "Poisson Distribution: It describes the number of events occurring in a fixed interval of time or space. It's often used when the number of trials is large and the probability of success is very small.\n",
    "\n",
    "Assumptions:\n",
    "\n",
    "Binomial Distribution: Assumes a fixed number of trials and each trial is independent and has the same probability of success (\"p\").\n",
    "\n",
    "Poisson Distribution: Assumes that the events occur randomly and independently over time or space and that the average rate of occurrence is constant.\n",
    "\n",
    "Parameters:\n",
    "\n",
    "Binomial Distribution: It's defined by two parameters: the number of trials (\"n\") and the probability of success in each trial (\"p\").\n",
    "\n",
    "Poisson Distribution: It's defined by a single parameter: the average rate of events occurring in the given interval (\"λ\" or \"mu\").\n",
    "\n",
    "Outcome Types:\n",
    "\n",
    "Binomial Distribution: Each trial has two possible outcomes: success or failure.\n",
    "\n",
    "Poisson Distribution: Counts the number of events, so the outcomes can range from 0 to infinity.\n",
    "\n",
    "Applicability:\n",
    "\n",
    "Binomial Distribution: Used when there is a fixed number of trials, and the events are independent and have the same probability of success. Common applications include coin flips, success/failure experiments, and repeated independent trials.\n",
    "\n",
    "Poisson Distribution: Used when events are rare and random, and their average rate of occurrence is known. Common applications include modeling rare events like phone calls at a call center, defects in a manufacturing process, and accidents in a given time interval.\n",
    "\n",
    "Shape:\n",
    "\n",
    "Binomial Distribution: Can have a wide range of shapes, from skewed to symmetric, depending on the values of \"n\" and \"p.\"\n",
    "\n",
    "Poisson Distribution: Typically has a single-peaked, skewed shape, with the peak around the mean value (\"λ\")."
   ]
  },
  {
   "cell_type": "markdown",
   "metadata": {},
   "source": [
    "Q8. Generate a random sample of size 1000 from a Poisson distribution with mean 5 and calculate the\n",
    "sample mean and variance"
   ]
  },
  {
   "cell_type": "code",
   "execution_count": 10,
   "metadata": {},
   "outputs": [
    {
     "name": "stdout",
     "output_type": "stream",
     "text": [
      "Sample Mean: 3.551\n",
      "Sample Variance: 3.5453989999999997\n"
     ]
    }
   ],
   "source": [
    "import numpy as np\n",
    "import matplotlib.pyplot as plt\n",
    "\n",
    "sample_size=1000\n",
    "probablity_of_success=5\n",
    "\n",
    "random_sample = np.random.poisson(mean, size=sample_size)\n",
    "\n",
    "# Calculate sample mean and variance\n",
    "sample_mean = np.mean(random_sample)\n",
    "sample_variance = np.var(random_sample)\n",
    "\n",
    "print(\"Sample Mean:\", sample_mean)\n",
    "print(\"Sample Variance:\", sample_variance)\n"
   ]
  },
  {
   "cell_type": "markdown",
   "metadata": {},
   "source": [
    "Q9. How mean and variance are related in Binomial distribution and Poisson distribution?"
   ]
  },
  {
   "cell_type": "markdown",
   "metadata": {},
   "source": [
    "Ans. The relationship between mean and variance in the binomial distribution and Poisson distribution can provide insights into the dispersion or spread of the data generated by these distributions.\n",
    "\n",
    "Binomial Distribution:\n",
    "\n",
    "For a binomial distribution with parameters \"n\" (number of trials) and \"p\" (probability of success), the mean (μ) and variance (σ²) are related as follows:\n",
    "\n",
    "Mean (μ) = n * p\n",
    "Variance (σ²) = n * p * (1 - p)\n",
    "\n",
    "In a binomial distribution, the variance depends on both the number of trials and the probability of success in each trial. When the probability of success (\"p\") is close to 0 or 1, the variance tends to be lower. As \"p\" approaches 0.5, the variance reaches its maximum value.\n",
    "\n",
    "Poisson Distribution:\n",
    "\n",
    "For a Poisson distribution with parameter \"λ\" (average rate of events), the mean (μ) and variance (σ²) are related as follows:\n",
    "\n",
    "Mean (μ) = λ\n",
    "Variance (σ²) = λ"
   ]
  },
  {
   "cell_type": "markdown",
   "metadata": {},
   "source": [
    "Q10. In normal distribution with respect to mean position, where does the least frequent data appear?"
   ]
  },
  {
   "cell_type": "markdown",
   "metadata": {},
   "source": [
    "Ans. In a normal distribution (also known as a Gaussian distribution), the data is symmetrically distributed around the mean. The mean is the central point of the distribution, and the distribution is symmetrically balanced on both sides of the mean.\n",
    "\n",
    "In a normal distribution, the least frequent data points appear in the tails of the distribution, which are the farthest points from the mean. The tails of the normal distribution extend infinitely in both directions, but the probability of observing data points far from the mean decreases rapidly as you move away from the mean.\n",
    "\n",
    "1. The least frequent data points appear in the extreme tails of the distribution, which are the values that are farthest from the mean.\n",
    "2. As you move away from the mean towards the tails, the frequency of data points decreases.\n",
    "3. The data points in the tails are considered to be outliers or extreme values, and they have lower probabilities of occurrence according to the properties of the normal distribution."
   ]
  }
 ],
 "metadata": {
  "kernelspec": {
   "display_name": "Python 3",
   "language": "python",
   "name": "python3"
  },
  "language_info": {
   "codemirror_mode": {
    "name": "ipython",
    "version": 3
   },
   "file_extension": ".py",
   "mimetype": "text/x-python",
   "name": "python",
   "nbconvert_exporter": "python",
   "pygments_lexer": "ipython3",
   "version": "3.11.0"
  },
  "orig_nbformat": 4
 },
 "nbformat": 4,
 "nbformat_minor": 2
}
