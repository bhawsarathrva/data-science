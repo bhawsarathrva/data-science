{
 "cells": [
  {
   "cell_type": "markdown",
   "metadata": {},
   "source": [
    "Q1 What are the three measures of central tendency?"
   ]
  },
  {
   "cell_type": "markdown",
   "metadata": {},
   "source": [
    "Ans. The three measure of central tendancy are:\n",
    "1. Mean\n",
    "2. Median\n",
    "3. Mode"
   ]
  },
  {
   "cell_type": "markdown",
   "metadata": {},
   "source": [
    "Q2. What is the difference between the mean, median, and mode? How are they used to measure the\n",
    "central tendency of a dataset?"
   ]
  },
  {
   "cell_type": "markdown",
   "metadata": {},
   "source": [
    "Ans. \n",
    "MEAN: The mean, also known as the average, is calculated by adding up all the values in a dataset and then dividing by the total number of values. It is sensitive to extreme values, also known as outliers, as they can significantly impact the calculated mean.\n",
    "\n",
    "When the data is somewhat regularly distributed and there are no extreme outliers, the mean is typically utilised. However, if the data contains outliers, it may not adequately represent the core tendency.\n",
    "\n",
    "MEDIAN: The median is the middle value in a dataset when the values are arranged in ascending or descending order. If there is an odd number of values, the median is the middle value itself. If there is an even number of values, the median is the average of the two middle values. The median is less affected by outliers compared to the mean, making it a more robust measure of central tendency.\n",
    "\n",
    "MODE:The mode is the value that appears most frequently in a dataset. A dataset can have no mode (if all values are unique) or multiple modes (if more than one value occurs with the highest frequency). The mode is useful for identifying the most common value in a dataset and is often used with categorical or discrete data."
   ]
  },
  {
   "cell_type": "markdown",
   "metadata": {},
   "source": [
    "Q3. Measure the three measures of central tendency for the given height data:\n",
    "\n",
    " [178,177,176,177,178.2,178,175,179,180,175,178.9,176.2,177,172.5,178,176.5]"
   ]
  },
  {
   "cell_type": "code",
   "execution_count": 4,
   "metadata": {},
   "outputs": [],
   "source": [
    "#MEAN\n",
    "import numpy as np\n",
    "\n",
    "list=[178,177,176,177,178.2,178,175,179,180,175,178.9,176.2,177,172.5,178,176.5]\n",
    "mean= np.mean(list)\n",
    "median=np.median(list)\n",
    "#mode=178"
   ]
  },
  {
   "cell_type": "code",
   "execution_count": 6,
   "metadata": {},
   "outputs": [
    {
     "data": {
      "text/plain": [
       "177.01875"
      ]
     },
     "execution_count": 6,
     "metadata": {},
     "output_type": "execute_result"
    }
   ],
   "source": [
    "mean"
   ]
  },
  {
   "cell_type": "code",
   "execution_count": 7,
   "metadata": {},
   "outputs": [
    {
     "data": {
      "text/plain": [
       "177.0"
      ]
     },
     "execution_count": 7,
     "metadata": {},
     "output_type": "execute_result"
    }
   ],
   "source": [
    "median"
   ]
  },
  {
   "cell_type": "markdown",
   "metadata": {},
   "source": [
    "Q4. Find the standard deviation for the given data:\n",
    "\n",
    "[178,177,176,177,178.2,178,175,179,180,175,178.9,176.2,177,172.5,178,176.5]"
   ]
  },
  {
   "cell_type": "code",
   "execution_count": 8,
   "metadata": {},
   "outputs": [
    {
     "data": {
      "text/plain": [
       "1.7885814036548633"
      ]
     },
     "execution_count": 8,
     "metadata": {},
     "output_type": "execute_result"
    }
   ],
   "source": [
    "data=[178,177,176,177,178.2,178,175,179,180,175,178.9,176.2,177,172.5,178,176.5]\n",
    "\n",
    "import numpy as np\n",
    "\n",
    "std=np.std(data)\n",
    "std"
   ]
  },
  {
   "cell_type": "markdown",
   "metadata": {},
   "source": [
    "Q5. How are measures of dispersion such as range, variance, and standard deviation used to describe\n",
    "the spread of a dataset? Provide an example."
   ]
  },
  {
   "cell_type": "markdown",
   "metadata": {},
   "source": [
    "Ans.\n",
    "Range: A range is the difference between the largest and smallest values in a data set. For example, if a data set contains the values 1, 2, 3, 4, and 5, then the range is 4 - 1 = 3. In computer science, a range is a data structure that stores a set of values in a contiguous block of memory. For example, an array is a type of range that stores a set of values in a linear order.\n",
    "\n",
    "Range = Maximum value - Minimum value\n",
    "\n",
    "Variance: Variance measures how far individual data points are from the mean. It is calculated by taking the average of the squared differences between each data point and the mean. Variance gives you an idea of how much the data points deviate from the mean.\n",
    "\n",
    "Variance = Σ(xi - x̄)² / N\n",
    "\n",
    "Standerd Deviation: The standard deviation is the square root of the variance. It's a widely used measure of dispersion because it's in the same unit as the original data, making it easier to interpret. A higher standard deviation indicates a larger spread of data points.\n",
    "\n",
    "Standard Deviation = √Variance"
   ]
  },
  {
   "cell_type": "markdown",
   "metadata": {},
   "source": [
    "Q6. What is venn diagram?"
   ]
  },
  {
   "cell_type": "markdown",
   "metadata": {},
   "source": [
    "Ans. A Venn diagram is a graphical depiction that shows the connections between several sets or groupings. It is made up of overlapping circles, each representing a different set, with the shared or overlapping sections denoting items from many sets. Venn diagrams are widely used to illustrate the similarities and contrasts between several categories or concepts.\n",
    "\n",
    "Key features of a Venn diagram:\n",
    "\n",
    "Circles: Each circle in a Venn diagram represents a specific set. The elements of that set are placed inside the circle.\n",
    "\n",
    "Overlapping Areas: The overlapping regions between circles represent the intersection of the sets, showing the elements that are common to those sets.\n",
    "\n",
    "Non-overlapping Areas: The areas outside the overlapping regions of the circles represent the elements that belong to only one specific set, without being shared by any other set.\n",
    "\n",
    "Universal Set: In some cases, a larger rectangle or another shape is used to enclose all the circles, representing the universal set from which the smaller sets are derived."
   ]
  },
  {
   "cell_type": "markdown",
   "metadata": {},
   "source": [
    "Q7.  For the two given sets A = (2,3,4,5,6,7) & B = (0,2,6,8,10). Find:\n",
    "\n",
    "(i) \tA(intersaction)B\n",
    "(ii)\tA(union)B"
   ]
  },
  {
   "cell_type": "markdown",
   "metadata": {},
   "source": [
    "Ans. \n",
    "i. {2,6}\n",
    "ii. {0,2,3,4,5,6,7,8,10}"
   ]
  },
  {
   "cell_type": "markdown",
   "metadata": {},
   "source": [
    "Q8. What do you understand about skewness in data?"
   ]
  },
  {
   "cell_type": "markdown",
   "metadata": {},
   "source": [
    "Ans. Skewness is a statistical term that reveals the asymmetry or lack of symmetry in a dataset's data point distribution. It is useful to discuss the distribution's form and how it differs from a completely symmetrical distribution, such as a normal (bell-shaped) distribution.\n",
    "\n",
    "There are three main types of skewness:\n",
    "\n",
    "ight Skewness:\n",
    "In a positively skewed distribution, the tail of the distribution is stretched out to the right, indicating that the majority of the data points are concentrated on the left side of the distribution, while a few large values (outliers) extend the right tail. This often results in a longer right tail and a clustering of values toward the lower end.\n",
    "\n",
    "Left Skewness:\n",
    "In a negatively skewed distribution, the tail of the distribution is stretched out to the left, indicating that most of the data points are concentrated on the right side of the distribution, while a few small values (outliers) extend the left tail. This leads to a longer left tail and a clustering of values toward the higher end.\n",
    "\n",
    "Symmetrical:\n",
    "A distribution is considered symmetrical (zero skewness) if the left and right sides are mirror images of each other, such as a normal distribution. In a symmetrical distribution, the mean, median, and mode are typically very close to each other."
   ]
  },
  {
   "cell_type": "markdown",
   "metadata": {},
   "source": [
    "Q9. If a data is right skewed then what will be the position of median with respect to mean?"
   ]
  },
  {
   "cell_type": "markdown",
   "metadata": {},
   "source": [
    "Ans. If the data is right skewed then median is greator than mean.\n",
    "mean<median<mode"
   ]
  },
  {
   "cell_type": "markdown",
   "metadata": {},
   "source": [
    "Q10.  Explain the difference between covariance and correlation. How are these measures used in\n",
    "statistical analysis?"
   ]
  },
  {
   "cell_type": "markdown",
   "metadata": {},
   "source": [
    "Ans.\n",
    "COVARIANCE: Covariance is a statistical measure that quantifies the degree to which two variables change together. In other words, it indicates whether an increase in one variable is associated with an increase or decrease in another variable. A positive covariance suggests that the two variables tend to increase or decrease together, while a negative covariance indicates that as one variable increases, the other tends to decrease.\n",
    "\n",
    "Cov(X, Y) = Σ((Xᵢ - X̄) * (Yᵢ - Ȳ)) / n-1\n",
    "\n",
    "CORRELATION: Correlation is a standardized measure that expresses the strength and direction of the linear relationship between two variables. It scales the covariance by dividing it by the product of the standard deviations of the two variables, resulting in a value between -1 and 1. A correlation of +1 indicates a perfect positive linear relationship, -1 indicates a perfect negative linear relationship, and 0 indicates no linear relationship.\n",
    "\n",
    "Correlation (r) = Cov(X, Y) / (σₓ * σᵧ)  [-1 TO +1]\n",
    "\n",
    "In statistical analysis, both covariance and correlation are used to:\n",
    "\n",
    "1. Understand the relationship between two variables and assess whether changes in one variable are associated with changes in another.\n",
    "2. Identify patterns and dependencies between variables, which can be crucial for decision-making and modeling.\n",
    "3. Assess the strength and direction of the relationship, with correlation being particularly useful as it's standardized and easier to interpret.\n",
    "4. Identify potential multicollinearity (high correlation) between variables in regression analysis, which can affect model stability and interpretation."
   ]
  },
  {
   "cell_type": "markdown",
   "metadata": {},
   "source": [
    "Q11. What is the formula for calculating the sample mean? Provide an example calculation for a\n",
    "dataset"
   ]
  },
  {
   "cell_type": "markdown",
   "metadata": {},
   "source": [
    "Ans. The sample mean, often denoted as x̄ (pronounced \"x-bar\"), is calculated by summing up all the individual data points in a sample and then dividing by the total number of data points in the sample. The formula for calculating the sample mean is as follows:\n",
    "\n",
    "Sample Mean (x̄) = Sum of all data points / Number of data points\n",
    "\n",
    "Let us take an example of dataset=[56,87,97,56,34,65]\n",
    "\n",
    "sum of data is = 395\n",
    "total no. of data = 6\n",
    "\n",
    "sample mean = 65.833"
   ]
  },
  {
   "cell_type": "markdown",
   "metadata": {},
   "source": [
    "Q12. For a normal distribution data what is the relationship between its measure of central tendency?"
   ]
  },
  {
   "cell_type": "markdown",
   "metadata": {},
   "source": [
    "Ans. For a normal distribution, which is also known as a Gaussian distribution or bell curve, there is a specific relationship between its measures of central tendency: the mean, median, and mode.\n",
    "\n",
    "In a perfectly symmetrical normal distribution:\n",
    "\n",
    "Mean: The mean (average) of a normal distribution is located at the center of the distribution, exactly where the curve reaches its peak. The mean, median, and mode are all equal and coincide at this point.\n",
    "\n",
    "Median: The median is also located at the center of the distribution, coinciding with the mean and mode. Since the normal distribution is symmetric, the median is the same as the mean.\n",
    "\n",
    "Mode: The mode is also at the center of the distribution, which is the highest point of the curve. In a symmetric normal distribution, there is only one mode, and it is the same as the mean and median."
   ]
  },
  {
   "cell_type": "markdown",
   "metadata": {},
   "source": [
    "Q13. How is covariance different from correlation?"
   ]
  },
  {
   "cell_type": "markdown",
   "metadata": {},
   "source": [
    "Ans. Covariance and correlation are both measures of the relationship between two variables, but they differ in terms of their interpretation and standardization:\n",
    "\n",
    "Covariance:\n",
    "\n",
    "Interpretation: Covariance indicates whether two variables tend to vary together. A positive covariance suggests that when one variable increases, the other tends to increase as well, and vice versa for decreases. A negative covariance suggests an inverse relationship.\n",
    "Scale: Covariance has no standardized scale, so it's hard to determine the strength of the relationship without context.\n",
    "Units: Covariance is measured in the product of the units of the two variables.\n",
    "\n",
    "Correlation:\n",
    "\n",
    "Interpretation: Correlation measures the strength and direction of the linear relationship between two variables. It indicates how closely the data points cluster around a linear trendline. A positive correlation means that as one variable increases, the other tends to increase, and vice versa for decreases. A negative correlation means that one variable tends to decrease as the other increases.\n",
    "Scale: Correlation is standardized, ranging between -1 and 1. A correlation of +1 indicates a perfect positive linear relationship, -1 indicates a perfect negative linear relationship, and 0 indicates no linear relationship.\n",
    "Units: Correlation is unitless, as it's a ratio of covariances to the product of standard deviations."
   ]
  },
  {
   "cell_type": "markdown",
   "metadata": {},
   "source": [
    "Q14.  How do outliers affect measures of central tendency and dispersion? Provide an example."
   ]
  },
  {
   "cell_type": "markdown",
   "metadata": {},
   "source": [
    "Ans. Outliers are data points that significantly deviate from the rest of the data in a dataset. These extreme values can have a substantial impact on both measures of central tendency (mean, median, mode) and measures of dispersion (range, variance, standard deviation).\n",
    "\n",
    "Measures of Central Tendency:\n",
    "\n",
    "Mean: Outliers can greatly influence the mean because it is calculated by summing all values and dividing by the total number of values. Even a single outlier with an extremely large or small value can pull the mean in the direction of the outlier. This effect is particularly pronounced in smaller datasets.\n",
    "\n",
    "Median: The median is less affected by outliers. An outlier won't significantly shift the median if it is far from the center of the data. However, if the outlier is close to the center, it can impact the median.\n",
    "\n",
    "Mode: The mode is generally not affected by outliers. Outliers won't change the value that appears most frequently in the dataset.\n",
    "\n",
    "Measures of Dispersion:\n",
    "\n",
    "Range: Outliers can greatly expand the range, especially if they are far from the bulk of the data. The range becomes larger as the gap between the outlier and the rest of the data widens.\n",
    "\n",
    "Variance and Standard Deviation: Outliers can have a substantial impact on variance and standard deviation, especially when squared differences are summed to calculate these measures. Outliers, with their large deviations from the mean, can lead to larger squared differences, which inflate the variance and, consequently, the standard deviation.\n",
    "\n",
    "Let's illustrate with an example:\n",
    "\n",
    "Consider a dataset of exam scores: [85, 92, 88, 78, 95, 102].\n",
    "\n",
    "Without an outlier (102), the mean is:\n",
    "Mean = (85 + 92 + 88 + 78 + 95) / 5 ≈ 87.6\n",
    "\n",
    "With the outlier, the mean becomes:\n",
    "Mean = (85 + 92 + 88 + 78 + 95 + 102) / 6 ≈ 91.67"
   ]
  }
 ],
 "metadata": {
  "kernelspec": {
   "display_name": "Python 3",
   "language": "python",
   "name": "python3"
  },
  "language_info": {
   "codemirror_mode": {
    "name": "ipython",
    "version": 3
   },
   "file_extension": ".py",
   "mimetype": "text/x-python",
   "name": "python",
   "nbconvert_exporter": "python",
   "pygments_lexer": "ipython3",
   "version": "3.11.0"
  },
  "orig_nbformat": 4
 },
 "nbformat": 4,
 "nbformat_minor": 2
}
