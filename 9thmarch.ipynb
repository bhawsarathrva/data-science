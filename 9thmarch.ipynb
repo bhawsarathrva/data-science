{
 "cells": [
  {
   "cell_type": "markdown",
   "metadata": {},
   "source": [
    "Q1: What are the Probability Mass Function (PMF) and Probability Density Function (PDF)? Explain with\n",
    "an example."
   ]
  },
  {
   "cell_type": "markdown",
   "metadata": {},
   "source": [
    "Ans. \n",
    "Probablity Mass Function(PMF):\n",
    "The probability mass function (PMF) of a discrete random variable is a function that gives the probability of each possible outcome of the variable. The PMF is denoted by P(X), where X is the random variable.\n",
    "\n",
    "Suppose we flip a coin. The PMF of the outcome of the coin flip is:\n",
    "\n",
    "P(heads) = 0.5\n",
    "P(tails) = 0.5\n",
    "\n",
    "Probablity Density Function(PDF):\n",
    "The PDF gives us more information about an event's probability because it allows for gradual changes in probability as the size of the event increases or decrease, The probability density function (PDF) of a continuous random variable is a function that gives the probability of the variable falling within a certain range. The PDF is denoted by f(x), where x is the random variable.\n",
    "\n",
    "Example:\n",
    "\n",
    "Suppose we measure the height of people. The PDF of the height of a person would be a curve that shows the probability of a person being a certain height. The curve would be highest at the average height and would get thinner as the height gets further from the average."
   ]
  },
  {
   "cell_type": "markdown",
   "metadata": {},
   "source": [
    "Q2.What is Cumulative Density Function (CDF)? Explain with an example. Why CDF is used?"
   ]
  },
  {
   "cell_type": "markdown",
   "metadata": {},
   "source": [
    "Ans. \n",
    "Cumulative Density Function(CDF):\n",
    "The cumulative distribution function (CDF) of a random variable is a function that gives the probability that the random variable is less than or equal to a certain value. The CDF is denoted by F(x), where x is the random variable.\n",
    "\n",
    "Example:\n",
    "\n",
    "Suppose we flip a coin. The CDF of the outcome of the coin flip is:\n",
    "\n",
    "F(x) = 0 for x < 0\n",
    "F(x) = 0.5 for 0 <= x < 1\n",
    "F(x) = 1 for x >= 1\n",
    "\n",
    "The CDF is used for a variety of tasks, including:\n",
    "\n",
    "Calculating the probability that a random variable will be less than or equal to a certain value.\n",
    "Calculating the probability that a random variable will be within a certain range.\n",
    "Generating random variables from a probability distribution.\n",
    "Performing statistical tests.\n",
    "\n",
    "For example, we could use the CDF of the coin flip to calculate the probability of getting heads or tails at least 3 times in 5 flips. We could do this by calculating the probability of getting heads or tails 3 times, 4 times, and 5 times, and then adding those probabilities together.\n",
    "\n",
    "We could also use the CDF of the coin flip to generate a random coin flip result. We would do this by generating a random number between 0 and 1, and then comparing that number to the CDF. If the random number is less than 0.5, then the result is heads. If the random number is greater than 0.5, then the result is tails.\n",
    "\n",
    "The CDF is a powerful tool that can be used for a variety of tasks in probability and statistics."
   ]
  },
  {
   "cell_type": "markdown",
   "metadata": {},
   "source": [
    "Q3. What are some examples of situations where the normal distribution might be used as a model?\n",
    "Explain how the parameters of the normal distribution relate to the shape of the distribution."
   ]
  },
  {
   "cell_type": "markdown",
   "metadata": {},
   "source": [
    "Ans.\n",
    "The normal distribution is a very common and versatile distribution that can be used to model a wide variety of phenomena. Here are some examples:\n",
    "\n",
    "Height, weight, and other physical characteristics of humans and animals\n",
    "Test scores, such as SAT and IQ scores\n",
    "Financial data, such as stock prices and interest rates\n",
    "Manufacturing data, such as the weight of a product or the time it takes to produce a product\n",
    "Natural phenomena, such as rainfall and wind speed\n",
    "\n",
    "The parameters of the normal distribution, the mean and standard deviation, relate to the shape of the distribution in the following ways:\n",
    "\n",
    "Mean: The mean is the center of the distribution. The higher the mean, the further to the right the distribution is shifted.\n",
    "Standard deviation: The standard deviation controls the spread of the distribution."
   ]
  },
  {
   "cell_type": "markdown",
   "metadata": {},
   "source": [
    "Q4.Explain the importance of Normal Distribution. Give a few real-life examples of Normal Distribution. "
   ]
  },
  {
   "cell_type": "markdown",
   "metadata": {},
   "source": [
    "Ans. \n",
    "The normal distribution, also known as the Gaussian distribution, is the most important probability distribution in statistics. It is a continuous probability distribution that is symmetric and bell-shaped. The normal distribution is used to model many natural phenomena, such as the distribution of heights and weights in a population, errors in measurement, and many more.\n",
    "\n",
    "The normal distribution is important for a number of reasons:\n",
    "\n",
    "It is a very good approximation for the distribution of many real-world variables.\n",
    "It has a number of useful mathematical properties, which makes it easy to work with.\n",
    "It is the basis for many statistical tests and procedures.\n",
    "\n",
    "Here are a few real-life examples of the normal distribution:\n",
    "\n",
    "Heights and weights of people\n",
    "IQ scores\n",
    "Test scores, such as SAT and ACT scores\n",
    "Manufacturing defects\n",
    "Financial data, such as stock prices and interest rates\n",
    "Errors in measurement\n",
    "\n",
    "The normal distribution can be used to answer a variety of questions about these and other phenomena. For example, we can use the normal distribution to:\n",
    "Calculate the probability of a person being a certain height or weight.\n",
    "Predict the distribution of test scores on a new exam.\n",
    "Estimate the number of defective products that will be produced in a batch.\n",
    "Set risk limits for financial investments.\n",
    "Estimate the uncertainty in a measurement."
   ]
  },
  {
   "cell_type": "markdown",
   "metadata": {},
   "source": [
    "Q5.What is Bernaulli Distribution? Give an Example. What is the difference between Bernoulli\n",
    "Distribution and Binomial Distribution?"
   ]
  },
  {
   "cell_type": "markdown",
   "metadata": {},
   "source": [
    "Ans.\n",
    "The Bernoulli distribution is a probability distribution that models a random experiment with exactly two possible outcomes, typically labeled as \"success\" and \"failure.\" It is named after the Swiss mathematician Jacob Bernoulli. The key characteristic of the Bernoulli distribution is that it represents a single trial or experiment with a binary outcome."
   ]
  },
  {
   "cell_type": "markdown",
   "metadata": {},
   "source": []
  },
  {
   "cell_type": "markdown",
   "metadata": {},
   "source": []
  },
  {
   "cell_type": "markdown",
   "metadata": {},
   "source": []
  },
  {
   "cell_type": "markdown",
   "metadata": {},
   "source": []
  },
  {
   "cell_type": "markdown",
   "metadata": {},
   "source": []
  },
  {
   "cell_type": "markdown",
   "metadata": {},
   "source": []
  },
  {
   "cell_type": "markdown",
   "metadata": {},
   "source": []
  },
  {
   "cell_type": "markdown",
   "metadata": {},
   "source": []
  }
 ],
 "metadata": {
  "kernelspec": {
   "display_name": "Python 3",
   "language": "python",
   "name": "python3"
  },
  "language_info": {
   "name": "python",
   "version": "3.11.5"
  },
  "orig_nbformat": 4
 },
 "nbformat": 4,
 "nbformat_minor": 2
}
