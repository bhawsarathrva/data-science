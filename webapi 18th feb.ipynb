{
 "cells": [
  {
   "attachments": {},
   "cell_type": "markdown",
   "metadata": {},
   "source": [
    "Q1. What is an API? Give an example, where an API is used in real life.\n",
    "Ans. API stand for application programming interface. \n",
    "    API is a set of protocols, tools, and routines for building software applications. It allows different software applications to communicate and interact with each other, and it provides a standardized way of accessing a service or resource over the internet.\n",
    "\n",
    "    API used in real life as bank account connet with other application like paytm, googlepaya and phonepay etc. for online transfer of money."
   ]
  },
  {
   "attachments": {},
   "cell_type": "markdown",
   "metadata": {},
   "source": [
    "Q2. Give advantages and disadvantages of using API.\n",
    "Ans. Advantage:\n",
    "     APIs enable software applications to communicate and interact with each other, making it easier to     integrate different systems and share data.\n",
    "     APIs can save time and resources by providing pre-built functionality that can be used by developers instead of building it from scratch.\n",
    "     APIs can help to scale applications by offloading some of the work to external services, such as cloud-based platforms or third-party APIs.\n",
    "\n",
    "     Disadvantage:\n",
    "     APIs are usually tied to a specific programming language, which makes it difficult to develop apps for multiple programming languages.\n",
    "     APIs can introduce security risks if they are not properly secured, such as exposing sensitive data or allowing unauthorized access to resources.\n",
    "     APIs may not be compatible with all software applications or programming languages, which can make integration more challenging.\n",
    "     APIs can add latency to apps, which can slow down the overall performance of the app."
   ]
  },
  {
   "attachments": {},
   "cell_type": "markdown",
   "metadata": {},
   "source": [
    "Q3. What is a Web API? Differentiate between API and Web API.\n",
    "Ans. A Web API is known as a web service API, is an API that is specifically designed to be accessed over  the internet using web protocols such as HTTP. Web APIs are typically accessed using a web browser or by making HTTP requests from a client application.\n",
    "\n",
    "API:\n",
    "An API is a set of routines, protocols, tools, and specifications for accessing and using a software system.\n",
    "An API is a specification of the capabilities of a software system.\n",
    "\n",
    "Web API:\n",
    "Web API is specifically designed to be accessed using web protocols such as HTTP and is accessed over the internet.\n",
    "Web API typically returns data in a standardized format, such as JSON or XML, which can be easily parsed and understood by other software applications. "
   ]
  },
  {
   "attachments": {},
   "cell_type": "markdown",
   "metadata": {},
   "source": [
    "Q4. Explain REST and SOAP Architecture. Mention shortcomings of SOAP.\n",
    "Ans. REST Architecture:\n",
    "      REST is a style of web architecture that is designed to be simple, scalable, and lightweight. It is based on the HTTP protocol and uses HTTP verbs such as GET, POST, PUT, and DELETE to perform operations on resources. REST uses a stateless client-server architecture, where the client and server do not maintain any session information between requests. Instead, each request contains all the necessary information to complete the request.\n",
    "\n",
    "     SOAP Architecture:\n",
    "      SOAP is an XML-based messaging protocol used to exchange data between different systems. It uses a standardized message format that includes a header and a body, and is typically transmitted over HTTP or other internet protocols. SOAP is more heavyweight and complex than REST, and it has built-in support for more advanced features such as security, transactions, and reliable messaging.\n",
    "\n",
    "Shortcoming of SOAP:\n",
    "SOAP is a more complex and heavyweight protocol compared to REST, which can make it more challenging to implement and maintain.\n",
    "SOAP can be slower than REST due to the additional overhead of the XML message format and the required parsing and processing of the messages.\n",
    "SOAP is primarily designed to work with XML-based languages, which can make it difficult to integrate with other languages and systems that use different data formats."
   ]
  },
  {
   "attachments": {},
   "cell_type": "markdown",
   "metadata": {},
   "source": [
    "Q5. Differentiate between REST and SOAP.\n",
    "Ans. REST (Representational State Transfer) and SOAP (Simple Object Access Protocol) are two popular architectural styles used for building web services. Here are some of the key differences between REST and SOAP:\n",
    "\n",
    "Protocol: REST uses HTTP as its protocol, while SOAP can use a variety of protocols, including HTTP, SMTP, and TCP.\n",
    "\n",
    "Message format: REST typically uses simple message formats such as JSON or XML, while SOAP messages are more complex and use XML.\n",
    "\n",
    "Resource orientation: REST is based on a resource-oriented architecture, where each resource is identified by a unique URL, while SOAP is based on an object-oriented architecture, where each request and response is based on an object or method.\n",
    "\n",
    "Statelessness: REST is stateless, meaning that each request contains all the necessary information to complete the request, while SOAP can maintain state between requests.\n",
    "\n",
    "Performance: REST is typically faster and more lightweight than SOAP due to its simpler message formats and stateless architecture.\n",
    "\n",
    "Caching: REST messages can be easily cached, while SOAP messages are more difficult to cache due to their complexity.\n",
    "\n",
    "Browser support: REST is well supported by web browsers and can be easily accessed using web technologies, while SOAP is not well supported by web browsers and can be more challenging to use in web-based applications."
   ]
  }
 ],
 "metadata": {
  "language_info": {
   "name": "python"
  },
  "orig_nbformat": 4
 },
 "nbformat": 4,
 "nbformat_minor": 2
}
