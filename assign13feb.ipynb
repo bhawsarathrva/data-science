{
 "cells": [
  {
   "attachments": {},
   "cell_type": "markdown",
   "metadata": {},
   "source": [
    "1. Explain why we have to use the Exception class while creating a Custom Exception.\n",
    "Ans. When creating a custom exception, it is recommended to derive from the built-in Exception class or one of its subclasses. This is because the Exception class provides a set of standard methods and attributes that are used to handle exceptions in Python. By deriving from Exception, you inherit these methods and attributes, which makes it easier to work with your custom exceptions.\n",
    "\n",
    "class MyException:\n",
    "    pass\n",
    "\n",
    "try:\n",
    "    raise MyException(\"Something went wrong.\")\n",
    "except MyException as e:\n",
    "    print(\"Error:\", e)\n"
   ]
  },
  {
   "attachments": {},
   "cell_type": "markdown",
   "metadata": {},
   "source": [
    "2. Write a python program to print Python Exception Hierarchy.\n",
    "Ans. exceptions are organized in a hierarchy, with the built-in Exception class at the top of the hierarchy. You can use the help() function to print the entire exception hierarchy in Python."
   ]
  },
  {
   "attachments": {},
   "cell_type": "markdown",
   "metadata": {},
   "source": [
    "3. What errors are defined in the ArithmeticError class? Explain any two with an example.\n",
    "Ans. The ArithmeticError class is a built-in Python exception class that represents errors that occur during arithmetic operations. It is the base class for many other exception classes.\n",
    "\n",
    "The two types of ArithematicError class are \n",
    "1. FloatingPointError\n",
    "2. OverflowError"
   ]
  },
  {
   "attachments": {},
   "cell_type": "markdown",
   "metadata": {},
   "source": [
    "4. Why LookupError class is used? Explain with an example KeyError and IndexError.\n",
    "Ans. The LookupError class is a built-in Python exception class that represents errors that occur when an item is not found in a sequence or mapping. It is the base class for many other exception classes\n",
    "\n",
    "KeyError: This error is raised when a key is not found in a dictionary.\n",
    "IndexError: This error is raised when an index is out of range for a sequence, such as a list or tuple."
   ]
  },
  {
   "attachments": {},
   "cell_type": "markdown",
   "metadata": {},
   "source": [
    "5. Explain ImportError. What is ModuleNotFoundError?\n",
    "Ans. ImportError: ImportError is a built-in Python exception class that is raised when a module or package cannot be imported. This error can occur for several reasons, such as a misspelled module name, a missing dependency, or an invalid module path.\n",
    "\n",
    "ModuleNotFoundError: This error is a subclass of ImportError and is raised specifically when a module cannot be found."
   ]
  },
  {
   "attachments": {},
   "cell_type": "markdown",
   "metadata": {},
   "source": [
    "6. List down some best practices for exception handling in python.\n",
    "Ans. Catch specific exceptions\n",
    "     Handle exceptions gracefully\n",
    "     Use finally block\n",
    "     Don't ignore exceptions\n",
    "     Don't use exceptions for flow control\n",
    "     Raise exceptions when necessary\n",
    "     Be mindful of performance"
   ]
  },
  {
   "cell_type": "markdown",
   "metadata": {},
   "source": []
  },
  {
   "cell_type": "markdown",
   "metadata": {},
   "source": []
  }
 ],
 "metadata": {
  "kernelspec": {
   "display_name": "Python 3",
   "language": "python",
   "name": "python3"
  },
  "language_info": {
   "codemirror_mode": {
    "name": "ipython",
    "version": 3
   },
   "file_extension": ".py",
   "mimetype": "text/x-python",
   "name": "python",
   "nbconvert_exporter": "python",
   "pygments_lexer": "ipython3",
   "version": "3.11.0"
  },
  "orig_nbformat": 4
 },
 "nbformat": 4,
 "nbformat_minor": 2
}
