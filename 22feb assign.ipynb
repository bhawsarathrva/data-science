{
 "cells": [
  {
   "attachments": {},
   "cell_type": "markdown",
   "metadata": {},
   "source": [
    "1. Write a python program to extract the video URL of the first five videos."
   ]
  },
  {
   "cell_type": "code",
   "execution_count": null,
   "metadata": {},
   "outputs": [],
   "source": [
    "import requests \n",
    "from bs4 import Beautifulsoup\n",
    "from urllib.request import urlopen \n",
    "import logging\n",
    "import os \n",
    "def extract_video_urls(https://www.youtube.com/watch?v=VSx-DV95-_I):\n",
    "    response = requests.get(https://www.youtube.com/watch?v=VSx-DV95-_I)\n",
    "    soup = BeautifulSoup(response.content, 'html.parser')\n",
    "\n",
    "    video_urls = []\n",
    "    video_elements = soup.find_all('a', class_='https://www.youtube.com/watch?v=VSx-DV95-_I')\n",
    "\n",
    "    for video_element in video_elements[:5]:\n",
    "        video_url = video_element['href']\n",
    "        video_urls.append(video_url)\n",
    "\n",
    "    return video_urls\n"
   ]
  },
  {
   "attachments": {},
   "cell_type": "markdown",
   "metadata": {},
   "source": [
    "2. Write a python program to extract the URL of the video thumbnails of the first five videos."
   ]
  },
  {
   "cell_type": "code",
   "execution_count": 1,
   "metadata": {},
   "outputs": [
    {
     "ename": "SyntaxError",
     "evalue": "invalid syntax (396397832.py, line 7)",
     "output_type": "error",
     "traceback": [
      "\u001b[1;36m  Cell \u001b[1;32mIn[1], line 7\u001b[1;36m\u001b[0m\n\u001b[1;33m    def extract_video_thumbnails(https://www.youtube.com/watch?v=VSx-DV95-_I):\u001b[0m\n\u001b[1;37m                                       ^\u001b[0m\n\u001b[1;31mSyntaxError\u001b[0m\u001b[1;31m:\u001b[0m invalid syntax\n"
     ]
    }
   ],
   "source": [
    "import requests \n",
    "from bs4 import Beautifulsoup\n",
    "from urllib.request import urlopen \n",
    "import logging\n",
    "import os\n",
    "\n",
    "def extract_video_thumbnails(https://www.youtube.com/watch?v=VSx-DV95-_I):\n",
    "    response = requests.get(https://www.youtube.com/watch?v=VSx-DV95-_I)\n",
    "    soup = BeautifulSoup(response.content, 'html.parser')\n",
    "\n",
    "    thumbnail_urls = []\n",
    "    video_elements = soup.find_all('div', class_='video-thumbnail')\n",
    "\n",
    "    for video_element in video_elements[:5]:\n",
    "        thumbnail_url = video_element.find('img')['src']\n",
    "        thumbnail_urls.append(thumbnail_url)\n",
    "\n",
    "    return thumbnail_urls\n"
   ]
  },
  {
   "attachments": {},
   "cell_type": "markdown",
   "metadata": {},
   "source": [
    "3. Write a python program to extract the title of the first five videos."
   ]
  },
  {
   "cell_type": "code",
   "execution_count": null,
   "metadata": {},
   "outputs": [],
   "source": [
    "import requests \n",
    "from bs4 import Beautifulsoup\n",
    "from urllib.request import urlopen \n",
    "import logging\n",
    "import os\n",
    "\n",
    "def extract_video_titles(https://www.youtube.com/watch?v=VSx-DV95-_I):\n",
    "    response = requests.get(https://www.youtube.com/watch?v=VSx-DV95-_I)\n",
    "    soup = BeautifulSoup(response.content, 'html.parser')\n",
    "\n",
    "    video_titles = []\n",
    "    video_elements = soup.find_all('div', class_='video-item')\n",
    "\n",
    "    for video_element in video_elements[:5]:\n",
    "        title_element = video_element.find('h3', class_='video-title')\n",
    "        video_title = title_element.text.strip()\n",
    "        video_titles.append(video_title)\n",
    "\n",
    "    return video_titles"
   ]
  },
  {
   "attachments": {},
   "cell_type": "markdown",
   "metadata": {},
   "source": [
    "4. Write a python program to extract the number of views of the first five videos."
   ]
  },
  {
   "cell_type": "code",
   "execution_count": null,
   "metadata": {},
   "outputs": [],
   "source": [
    "import requests \n",
    "from bs4 import Beautifulsoup\n",
    "from urllib.request import urlopen \n",
    "import logging\n",
    "import os\n",
    "\n",
    "def extract_video_view_counts(https://www.youtube.com/watch?v=VSx-DV95-_I):\n",
    "    response = requests.get(https://www.youtube.com/watch?v=VSx-DV95-_I)\n",
    "    soup = BeautifulSoup(response.content, 'html.parser')\n",
    "\n",
    "    view_counts = []\n",
    "    video_elements = soup.find_all('div', class_='video-item')\n",
    "\n",
    "    for video_element in video_elements[:5]:\n",
    "        view_element = video_element.find('span', class_='view-count')\n",
    "        view_count = view_element.text.strip()\n",
    "        view_counts.append(view_count)\n",
    "\n",
    "    return view_counts\n"
   ]
  },
  {
   "attachments": {},
   "cell_type": "markdown",
   "metadata": {},
   "source": [
    "5. Write a python program to extract the time of posting of video for the first five videos."
   ]
  },
  {
   "cell_type": "code",
   "execution_count": null,
   "metadata": {},
   "outputs": [],
   "source": [
    "import requests \n",
    "from bs4 import Beautifulsoup\n",
    "from urllib.request import urlopen \n",
    "import logging\n",
    "import os\n",
    "\n",
    "def extract_video_posting_time(url):\n",
    "    response = requests.get(url)\n",
    "    soup = BeautifulSoup(response.content, 'html.parser')\n",
    "\n",
    "    posting_times = []\n",
    "    video_elements = soup.find_all('div', class_='video-item')\n",
    "\n",
    "    for video_element in video_elements[:5]:\n",
    "        time_element = video_element.find('span', class_='post-time')\n",
    "        posting_time = time_element.text.strip()\n",
    "        posting_times.append(posting_time)\n",
    "\n",
    "    return posting_times"
   ]
  }
 ],
 "metadata": {
  "kernelspec": {
   "display_name": "Python 3",
   "language": "python",
   "name": "python3"
  },
  "language_info": {
   "codemirror_mode": {
    "name": "ipython",
    "version": 3
   },
   "file_extension": ".py",
   "mimetype": "text/x-python",
   "name": "python",
   "nbconvert_exporter": "python",
   "pygments_lexer": "ipython3",
   "version": "3.11.0"
  },
  "orig_nbformat": 4
 },
 "nbformat": 4,
 "nbformat_minor": 2
}
