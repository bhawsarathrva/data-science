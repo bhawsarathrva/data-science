{
 "cells": [
  {
   "cell_type": "markdown",
   "metadata": {},
   "source": [
    "Q1: What is Matplotlib? Why is it used? Name five plots that can be plotted using the Pyplot module of\n",
    "Matplotlib."
   ]
  },
  {
   "cell_type": "markdown",
   "metadata": {},
   "source": [
    "Ans. Matplotlib is a popular Python data visualisation package. It includes several tools for producing static, animated, and interactive visualisations in a variety of formats. Matplotlib is extensively used for creating high-quality plots, charts, histograms, and other data visualisations.\n",
    "\n",
    "The five plot can be created using pyplot module in matplotlib are:\n",
    "\n",
    "1. Line Plot: A line plot depicts data points connected by straight lines. It is widely used to demonstrate trends or patterns in data across time or across categories.\n",
    "\n",
    "2. Scatter Plot: Individual data points are represented as markers on a Cartesian plane in a scatter plot. It may be used to visualise the relationship between two variables and to find any correlation or clustering.\n",
    "\n",
    "3. Bar Plot: A bar plot (or bar chart) uses rectangular bars with lengths proportionate to the values they represent to depict categorical data. It is frequently used to compare two or more categories or to depict the distribution of a single category variable.\n",
    "\n",
    "4. Histogram: A histogram depicts the distribution of numerical data by dividing it into bins and displaying the frequency or count of data points falling into each bin."
   ]
  },
  {
   "cell_type": "markdown",
   "metadata": {},
   "source": [
    "Q2: What is a scatter plot? Use the following code to generate data for x and y. Using this generated data\n",
    "plot a scatter plot.\n",
    "\n",
    "import numpy as np\n",
    "np.random.seed(3)\n",
    "x = 3 + np.random.normal(0, 2, 50)\n",
    "y = 3 + np.random.normal(0, 2, len(x))\n",
    "Note: Also add title, xlabel, and ylabel to the plot."
   ]
  },
  {
   "cell_type": "markdown",
   "metadata": {},
   "source": [
    "Ans. Scatter Plot: A scatter plot is a sort of data visualisation in which data points are represented as individual dots on a two-dimensional plane to show the connection between two variables. It may be used to see whether there is a correlation or pattern between the variables."
   ]
  },
  {
   "cell_type": "code",
   "execution_count": 10,
   "metadata": {},
   "outputs": [
    {
     "data": {
      "image/png": "[encoded data removed]",
      "text/plain": [
       "<Figure size 640x480 with 1 Axes>"
      ]
     },
     "metadata": {},
     "output_type": "display_data"
    }
   ],
   "source": [
    "import numpy as np\n",
    "import matplotlib.pyplot as plt\n",
    "\n",
    "np.random.seed(3)\n",
    "x = 3 + np.random.normal(0, 2, 50)\n",
    "y = 3 + np.random.normal(0, 2, len(x))\n",
    "\n",
    "plt.scatter(x, y, alpha = .9, marker = '*')\n",
    "plt.title(\"Scatter Plot\")\n",
    "plt.xlabel(\"THIS IS MY X DATA\")\n",
    "plt.ylabel(\"THIS IS MY Y DATA\")\n",
    "plt.show()\n"
   ]
  },
  {
   "cell_type": "markdown",
   "metadata": {},
   "source": [
    "Q3: What is the subplot() function used? Draw four line plots using the subplot() function.\n",
    "Use the following data:\n",
    "\n",
    "import numpy as np\n",
    "For line 1: x = np.array([0, 1, 2, 3, 4, 5]) and y = np.array([0, 100, 200, 300, 400, 500])\n",
    "For line 2: x = np.array([0, 1, 2, 3, 4, 5]) and y = np.array([50, 20, 40, 20, 60, 70])\n",
    "For line 3: x = np.array([0, 1, 2, 3, 4, 5]) and y = np.array([10, 20, 30, 40, 50, 60])\n",
    "For line 4: x = np.array([0, 1, 2, 3, 4, 5]) and y = np.array([200, 350, 250, 550, 450, 150])"
   ]
  },
  {
   "cell_type": "markdown",
   "metadata": {},
   "source": [
    "Ans. "
   ]
  },
  {
   "cell_type": "code",
   "execution_count": null,
   "metadata": {},
   "outputs": [],
   "source": [
    "import numpy as np\n",
    "import matplotlib.pyplot as plt\n",
    "\n",
    "x = np.array([0, 1, 2, 3, 4, 5])\n",
    "\n",
    "# Data for line 1\n",
    "y1 = np.array([0, 100, 200, 300, 400, 500])\n",
    "\n",
    "# Data for line 2\n",
    "y2 = np.array([50, 20, 40, 20, 60, 70])\n",
    "\n",
    "# Data for line 3\n",
    "y3 = np.array([10, 20, 30, 40, 50, 60])\n",
    "\n",
    "# Data for line 4\n",
    "y4 = np.array([200, 350, 250, 550, 450, 150])\n",
    "\n",
    "# Creating a 2x2 grid of subplots\n",
    "plt.subplot(2, 2, 1)\n",
    "plt.plot(x, y1)\n",
    "plt.title(\"Line 1\")\n",
    "\n",
    "plt.subplot(2, 2, 2)\n",
    "plt.plot(x, y2)\n",
    "plt.title(\"Line 2\")\n",
    "\n",
    "plt.subplot(2, 2, 3)\n",
    "plt.plot(x, y3)\n",
    "plt.title(\"Line 3\")\n",
    "\n",
    "plt.subplot(2, 2, 4)\n",
    "plt.plot(x, y4)\n",
    "plt.title(\"Line 4\")\n",
    "\n",
    "plt.tight_layout()  # Adjust layout for better spacing\n",
    "plt.show()\n"
   ]
  },
  {
   "cell_type": "code",
   "execution_count": null,
   "metadata": {},
   "outputs": [],
   "source": []
  }
 ],
 "metadata": {
  "kernelspec": {
   "display_name": "Python 3",
   "language": "python",
   "name": "python3"
  },
  "language_info": {
   "codemirror_mode": {
    "name": "ipython",
    "version": 3
   },
   "file_extension": ".py",
   "mimetype": "text/x-python",
   "name": "python",
   "nbconvert_exporter": "python",
   "pygments_lexer": "ipython3",
   "version": "3.11.0"
  },
  "orig_nbformat": 4
 },
 "nbformat": 4,
 "nbformat_minor": 2
}
