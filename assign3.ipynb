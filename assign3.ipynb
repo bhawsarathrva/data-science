{
 "cells": [
  {
   "attachments": {},
   "cell_type": "markdown",
   "metadata": {},
   "source": [
    "1. What is an Exception in python? Write the difference between Exceptions and Syntax errors.\n",
    "Ans. An exception is a condition that interrupts the normal flow of the program.\n",
    "     Both errors and exceptions are a type of runtime error, which means they occur during the execution of a program.\n",
    "     \n",
    "     Error:\n",
    "     An error is an issue in a program that prevents the program from completing its task. In comparison, an exception is a condition\n",
    "     that interrupts the normal flow of the program. Both errors and exceptions are a type of runtime error, which means they occur during the execution of a program.\n",
    "\n",
    "     Exception:\n",
    "     An exception is an abnormal event that occurs during the execution of a program. Exceptions are usually caused by runtime errors, such as dividing by zero,\n",
    "     trying to access an element in an array with an out-of-bounds index, or trying to access a file that does not exist. Exceptions are not syntax errors, but they \n",
    "     can still prevent the program from running if they are not handled properly."
   ]
  },
  {
   "attachments": {},
   "cell_type": "markdown",
   "metadata": {},
   "source": [
    "2. What happens when an exception is not handled? Explain with an example.\n",
    "Ans. If an exception is not caught the runtime system will abort the program and an exception message will print to the console.\n",
    "     \n",
    "     try:\n",
    "        x = int(input(\"Please enter a number: \"))\n",
    "        break\n",
    "    except ValueError:\n",
    "        print(\"Oops!  That was no valid number.  Try again...\")"
   ]
  },
  {
   "attachments": {},
   "cell_type": "markdown",
   "metadata": {},
   "source": [
    "3. Which Python statements are used to catch and handle exceptions? Explain with an example.\n",
    "Ans. The try and except block in python is used to catch and handle exceptions.\n",
    "     Ex. try:\n",
    "             d={1: [3,4,5,6],\"key\":\"ath\"}\n",
    "             d[\"key10\"]\n",
    "        except KeyError as e:\n",
    "             print(e)"
   ]
  },
  {
   "attachments": {},
   "cell_type": "markdown",
   "metadata": {},
   "source": [
    "4. Explain with an example:\n",
    "\n",
    "a. try and else\n",
    "\n",
    "b. finally\n",
    "\n",
    "c. raise\n",
    "\n",
    "Ans. (a). Try and Except are used for error handling. The try block contains the code that may raise an exception while the except block contains the code that handles the exception.\n",
    "\n",
    "ex. try:\n",
    "    num1 = int(input(\"Enter a number: \"))\n",
    "    num2 = int(input(\"Enter another number: \"))\n",
    "    result = num1 / num2\n",
    "    print(\"The result is:\", result)\n",
    "except ZeroDivisionError:\n",
    "    print(\"You cannot divide by zero!\")\n",
    "except ValueError:\n",
    "    print(\"Invalid input. Please enter a valid number.\")\n",
    "\n",
    "(b). Finally is a block of code that is executed regardless of whether an exception is raised or not. This block is commonly used to perform clean-up actions such as closing files, releasing resources, or cleaning up database connections.\n",
    "\n",
    "ex. try:\n",
    "    file = open(\"myfile.txt\", \"r\")\n",
    "    content = file.read()\n",
    "    print(content)\n",
    "except FileNotFoundError:\n",
    "    print(\"File not found!\")\n",
    "finally:\n",
    "    file.close()\n",
    "\n",
    "(c). Raise is a keyword that is used to raise an exception. This can be useful when you want to indicate    that something unexpected or exceptional has happened in your code.\n",
    "\n",
    "ex. def calculate_area(width, height):\n",
    "    if width <= 0 or height <= 0:\n",
    "        raise ValueError(\"Width and height must be positive values.\")\n",
    "    return width * height\n",
    "\n",
    "try:\n",
    "    area = calculate_area(-5, 10)\n",
    "    print(\"The area is:\", area)\n",
    "except ValueError as e:\n",
    "    print(\"Error:\", e)\n"
   ]
  },
  {
   "attachments": {},
   "cell_type": "markdown",
   "metadata": {},
   "source": [
    "5. What are Custom Exceptions in python? Why do we need Custom Exceptions? Explain with an example.\n",
    "\n",
    "Ans. Custom exceptions in Python are user-defined exceptions that are created by deriving from the built-in  Exception class or one of its subclasses. These exceptions can be used to indicate specific errors or exceptional situations in your code.\n",
    "\n",
    "We need custom exceptions in Python for several reasons. First, they allow us to provide more specific and informative error messages to the user. Second, they help us to handle errors in a more organized and consistent way, making our code more robust and easier to maintain. Finally, they enable us to encapsulate error handling logic in a separate module or\n",
    "\n",
    "ex. class InvalidEmailError(Exception):\n",
    "    pass\n",
    "\n",
    "def send_email(to, subject, body):\n",
    "    if \"@\" not in to:\n",
    "        raise InvalidEmailError(\"Invalid email address: {}\".format(to))\n",
    "    # send email...\n",
    "\n",
    "try:\n",
    "    send_email(\"johndoe\", \"Hello\", \"This is a test email.\")\n",
    "except InvalidEmailError as e:\n",
    "    print(\"Error sending email:\", e)\n"
   ]
  },
  {
   "cell_type": "markdown",
   "metadata": {},
   "source": []
  }
 ],
 "metadata": {
  "kernelspec": {
   "display_name": "Python 3",
   "language": "python",
   "name": "python3"
  },
  "language_info": {
   "name": "python",
   "version": "3.11.0"
  },
  "orig_nbformat": 4
 },
 "nbformat": 4,
 "nbformat_minor": 2
}
