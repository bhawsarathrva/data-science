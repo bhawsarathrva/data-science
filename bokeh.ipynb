{
 "cells": [
  {
   "cell_type": "markdown",
   "metadata": {},
   "source": [
    "Q1. How can you create a Bokeh plot using Python code?"
   ]
  },
  {
   "cell_type": "markdown",
   "metadata": {},
   "source": [
    "Ans. The following steps are discussed for creating bokeh plot:\n",
    "\n",
    "1. By installing bokeh in jupyter notebook.\n",
    "2. Then importing bokeh library.\n",
    "3. Then preparing or importing the data which further operated.\n",
    "4. Then configuring the outputs where we wants to display the output.\n",
    "5. Then create the figure with suitable title and axis labels.\n",
    "6. Then show the plots.\n"
   ]
  },
  {
   "cell_type": "markdown",
   "metadata": {},
   "source": [
    "Q2. What are glyphs in Bokeh, and how can you add them to a Bokeh plot? Explain with an example."
   ]
  },
  {
   "cell_type": "markdown",
   "metadata": {},
   "source": [
    "Ans. Glyphs in Bokeh are the basic visual building blocks that you can use to create various types of plots, such as lines, circles, rectangles, and more. Each type of plot element, like lines or circles, is represented by a glyph in Bokeh. Glyphs are added to a Bokeh plot to visualize data points and patterns."
   ]
  },
  {
   "cell_type": "code",
   "execution_count": null,
   "metadata": {},
   "outputs": [],
   "source": [
    "import bokeh.plotting \n",
    "from bokeh.plotting import figure, output_file, show\n",
    "\n",
    "x = [1, 2, 3, 4, 5]\n",
    "y = [6, 7, 2, 4, 5]\n",
    "\n",
    "output_file(\"glyphs_example.html\")\n",
    "\n",
    "p = figure(title=\"Glyphs Example\", x_axis_label=\"X-axis\", y_axis_label=\"Y-axis\")\n",
    "\n",
    "p.circle(x, y, size=10, color=\"navy\", alpha=0.5, legend_label=\"Circles\")\n",
    "p.line(x, y, line_width=2, color=\"red\", legend_label=\"Line\")\n",
    "p.square(x, y, size=8, color=\"green\", alpha=0.3, legend_label=\"Squares\")\n",
    "p.triangle(x, y, size=8, color=\"orange\", angle=45, legend_label=\"Triangles\")\n",
    "\n",
    "p.legend.title = \"Glyph Types\"\n",
    "p.legend.label_text_font_size = \"10pt\"\n",
    "p.legend.location = \"top_left\"\n",
    "\n",
    "show(p)\n"
   ]
  },
  {
   "cell_type": "markdown",
   "metadata": {},
   "source": [
    "In this example:\n",
    "\n",
    "circle, line, square, and triangle are different glyph types.\n",
    "The x and y arrays represent the data points.\n",
    "Various attributes like size, color, and alpha control the appearance of the glyphs.\n",
    "The legend_label attribute provides a label for each glyph.\n",
    "The legend is added to the plot to differentiate the glyph types.\n"
   ]
  },
  {
   "cell_type": "markdown",
   "metadata": {},
   "source": [
    "Q3. How can you customize the appearance of a Bokeh plot, including the axes, title, and legend?"
   ]
  },
  {
   "cell_type": "code",
   "execution_count": null,
   "metadata": {},
   "outputs": [],
   "source": [
    "from bokeh.plotting import figure, output_file, show\n",
    "from bokeh.models import Title\n",
    "\n",
    "x = [1, 2, 3, 4, 5]\n",
    "y = [6, 7, 2, 4, 5]\n",
    "\n",
    "p = figure(title=\"Customized Bokeh Plot\", x_axis_label=\"X-axis\", y_axis_label=\"Y-axis\")\n",
    "\n",
    "p.title.align = 'center'\n",
    "p.title.text_color = 'blue'\n",
    "p.title.text_font_size = '20pt'\n",
    "p.title.text_font_style = 'italic'\n",
    "\n",
    "p.xaxis.axis_label_text_color = 'green'\n",
    "p.xaxis.axis_label_text_font_size = '14pt'\n",
    "p.yaxis.axis_label_text_color = 'red'\n",
    "p.yaxis.axis_label_text_font_size = '14pt'\n",
    "\n",
    "p.xaxis.major_label_text_color = 'orange'\n",
    "p.xaxis.major_label_text_font_size = '12pt'\n",
    "p.yaxis.major_label_text_color = 'purple'\n",
    "p.yaxis.major_label_text_font_size = '12pt'\n",
    "\n",
    "p.legend.title = \"Legend\"\n",
    "p.legend.label_text_font_size = \"12pt\"\n",
    "p.legend.label_text_color = \"navy\"\n",
    "p.legend.location = \"top_left\"\n",
    "\n",
    "p.circle(x, y, size=10, color=\"navy\", alpha=0.5, legend_label=\"Circles\")\n",
    "p.line(x, y, line_width=2, color=\"red\", legend_label=\"Line\")\n",
    "\n",
    "show(p)\n"
   ]
  },
  {
   "cell_type": "markdown",
   "metadata": {},
   "source": [
    "Q4. What is a Bokeh server, and how can you use it to create interactive plots that can be updated in\n",
    "real time?"
   ]
  },
  {
   "cell_type": "markdown",
   "metadata": {},
   "source": [
    "Ans. The Bokeh Server is a library component that allows you to design and distribute interactive, real-time data applications. You may use the Bokeh Server to create web apps that contain interactive plots and visualisations that can be updated dynamically as people interact with them, without having to reload the entire page.\n",
    "\n",
    "You may construct apps with complicated interactions, live data streaming, and real-time changes with the Bokeh Server. Here's an easy way to utilise the Bokeh Server to make an interactive plot that changes in real time"
   ]
  },
  {
   "cell_type": "code",
   "execution_count": null,
   "metadata": {},
   "outputs": [],
   "source": [
    "from bokeh.plotting import curdoc, figure\n",
    "from bokeh.models import ColumnDataSource\n",
    "from bokeh.models.widgets import Button\n",
    "\n",
    "plot = figure(plot_height=300, plot_width=600, title=\"Interactive Plot\")\n",
    "source = ColumnDataSource(data={'x': [], 'y': []})\n",
    "\n",
    "plot.circle(x='x', y='y', source=source, size=10, color='navy')\n",
    "\n",
    "def update_data():\n",
    "    new_data = {'x': [1, 2, 3, 4, 5], 'y': [6, 7, 2, 4, 5]}\n",
    "    source.data = new_data\n",
    "\n",
    "button = Button(label=\"Update Data\")\n",
    "button.on_click(update_data)\n",
    "\n",
    "curdoc().add_root(plot)\n",
    "curdoc().add_root(button)\n"
   ]
  },
  {
   "cell_type": "markdown",
   "metadata": {},
   "source": [
    "Q5. How can you embed a Bokeh plot into a web page or dashboard using Flask or Django?"
   ]
  },
  {
   "cell_type": "markdown",
   "metadata": {},
   "source": [
    "Ans. sorry but in Bokeh lecture Django was not explained "
   ]
  }
 ],
 "metadata": {
  "kernelspec": {
   "display_name": "Python 3",
   "language": "python",
   "name": "python3"
  },
  "language_info": {
   "codemirror_mode": {
    "name": "ipython",
    "version": 3
   },
   "file_extension": ".py",
   "mimetype": "text/x-python",
   "name": "python",
   "nbconvert_exporter": "python",
   "pygments_lexer": "ipython3",
   "version": "3.11.0"
  },
  "orig_nbformat": 4
 },
 "nbformat": 4,
 "nbformat_minor": 2
}
