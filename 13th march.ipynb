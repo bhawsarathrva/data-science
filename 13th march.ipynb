{
 "cells": [
  {
   "cell_type": "markdown",
   "metadata": {},
   "source": [
    "Q1. Explain the assumptions required to use ANOVA and provide examples of violations that could impact \n",
    "the validity of the results.\n",
    "Ans.  **Assumptions of ANOVA:**\n",
    "\n",
    "1. **Independence:** Observations within each group must be independent of one another. This means that the value of one observation should not influence the value of another observation in the same group.\n",
    "\n",
    "2. **Homogeneity of Variances:** The variances of the groups being compared must be equal. This assumption is also known as homoscedasticity.\n",
    "\n",
    "3. **Normal Distribution:** The data in each group should be normally distributed. This assumption can be relaxed somewhat if the sample sizes are large enough.\n",
    "\n",
    "4. **Additivity:** The effects of the different factors being studied should be additive. This means that the total effect of the factors is equal to the sum of the individual effects of each factor.\n",
    "\n",
    "**Examples of Violations that could Impact the Validity of the Results:**\n",
    "\n",
    "1. **Lack of Independence:** If the observations within each group are not independent, then the results of the ANOVA may be biased. For example, if participants in a study are asked to rate the attractiveness of a series of faces, and the faces are presented in a random order, then the observations can be considered independent. However, if the faces are presented in a block design, with all the attractive faces presented together and all the unattractive faces presented together, then the observations are not independent. This is because the attractiveness of one face may influence the attractiveness of the next face that is seen.\n",
    "\n",
    "2. **Heterogeneity of Variances:** If the variances of the groups being compared are not equal, then the results of the ANOVA may be biased. For example, if one group of participants is more variable in their responses than another group, then the group with the greater variance is more likely to have a significant effect in the ANOVA.\n",
    "\n",
    "3. **Non-Normal Distribution:** If the data in each group is not normally distributed, then the results of the ANOVA may be biased. This is because the F-test statistic, which is used to test the significance of the ANOVA results, assumes that the data are normally distributed.\n",
    "\n",
    "4. **Non-Additivity:** If the effects of the different factors being studied are not additive, then the results of the ANOVA may be biased. For example, if there is an interaction between two factors, then the total effect of the two factors is not equal to the sum of the individual effects of each factor."
   ]
  },
  {
   "cell_type": "markdown",
   "metadata": {},
   "source": [
    "Q2. What are the three types of ANOVA, and in what situations would each be used?\n",
    "Ans. **Three types of ANOVA:**\n",
    "\n",
    "1. **One-way ANOVA:** This type of ANOVA is used to compare the means of two or more groups on a single dependent variable. For example, a researcher might use a one-way ANOVA to compare the mean scores of three different groups of students on a math test.\n",
    "\n",
    "2. **Two-way ANOVA:** This type of ANOVA is used to compare the means of two or more groups on two different dependent variables. For example, a researcher might use a two-way ANOVA to compare the mean scores of two different groups of students on a math test and a reading test.\n",
    "\n",
    "3. **Three-way ANOVA:** This type of ANOVA is used to compare the means of two or more groups on three different dependent variables. For example, a researcher might use a three-way ANOVA to compare the mean scores of three different groups of students on a math test, a reading test, and a science test.\n",
    "\n",
    "**Situations in which each type of ANOVA would be used:**\n",
    "\n",
    "1. **One-way ANOVA:** One-way ANOVA is used when a researcher is interested in comparing the means of two or more groups on a single dependent variable. For example, a researcher might use a one-way ANOVA to compare the mean scores of three different groups of students on a math test to determine if there is a significant difference in their math abilities.\n",
    "\n",
    "2. **Two-way ANOVA:** Two-way ANOVA is used when a researcher is interested in comparing the means of two or more groups on two different dependent variables. For example, a researcher might use a two-way ANOVA to compare the mean scores of two different groups of students on a math test and a reading test to determine if there is a significant difference in their math and reading abilities.\n",
    "\n",
    "3. **Three-way ANOVA:** Three-way ANOVA is used when a researcher is interested in comparing the means of two or more groups on three different dependent variables. For example, a researcher might use a three-way ANOVA to compare the mean scores of three different groups of students on a math test, a reading test, and a science test to determine if there is a significant difference in their math, reading, and science abilities\n"
   ]
  },
  {
   "cell_type": "markdown",
   "metadata": {},
   "source": [
    "Q3. What is the partitioning of variance in ANOVA, and why is it important to understand this concept?\n",
    "Ans. Partitioning of variance is a statistical technique that is used to determine the amount of variance in a data set that is due to different sources of variation. In ANOVA, the total variance in the data is partitioned into two components:\n",
    "\n",
    "1. **Within-Groups Variance:** This component represents the variance that is due to individual differences within each group. For example, if we are comparing the mean scores of three different groups of students on a math test, the within-groups variance would represent the variance in scores within each group.\n",
    "\n",
    "2. **Between-Groups Variance:** This component represents the variance that is due to differences between the groups. For example, if we are comparing the mean scores of three different groups of students on a math test, the between-groups variance would represent the variance in mean scores between the three groups.\n",
    "\n",
    "**Importance of Understanding the Partitioning of Variance:**\n",
    "\n",
    "Understanding the partitioning of variance is important for two reasons:\n",
    "\n",
    "1. **Determining the Significance of the ANOVA Results:** The F-test statistic, which is used to test the significance of the ANOVA results, is calculated by dividing the between-groups variance by the within-groups variance. If the F-test statistic is significant, then this indicates that there is a significant difference between the groups.\n",
    "\n",
    "2. **Estimating the Effect Size:** The effect size is a measure of the magnitude of the difference between the groups. The effect size can be calculated by dividing the between-groups variance by the total variance. The larger the effect size, the greater the difference between the groups.\n"
   ]
  },
  {
   "cell_type": "markdown",
   "metadata": {},
   "source": [
    "Q4. How would you calculate the total sum of squares (SST), explained sum of squares (SSE), and residual \n",
    "sum of squares (SSR) in a one-way ANOVA using Python?\n",
    "Ans. "
   ]
  },
  {
   "cell_type": "code",
   "execution_count": 1,
   "metadata": {},
   "outputs": [
    {
     "name": "stdout",
     "output_type": "stream",
     "text": [
      "Total Sum of Squares (SST): 130.0\n",
      "Explained Sum of Squares (SSE): 2.0\n",
      "Residual Sum of Squares (SSR): 128.0\n"
     ]
    }
   ],
   "source": [
    "import numpy as np\n",
    "from scipy import stats\n",
    "\n",
    "# One-way ANOVA example data\n",
    "data = [\n",
    "    [10, 12, 14, 16, 18],\n",
    "    [11, 13, 15, 17, 19],\n",
    "    [12, 14, 16, 18, 20],\n",
    "]\n",
    "\n",
    "# Calculate the total sum of squares (SST)\n",
    "sst = np.sum((data - np.mean(data)) ** 2)\n",
    "\n",
    "# Calculate the explained sum of squares (SSE)\n",
    "sse = np.sum((np.mean(data, axis=1) - np.mean(data)) ** 2)\n",
    "\n",
    "# Calculate the residual sum of squares (SSR)\n",
    "ssr = sst - sse\n",
    "\n",
    "# Print the results\n",
    "print(\"Total Sum of Squares (SST):\", sst)\n",
    "print(\"Explained Sum of Squares (SSE):\", sse)\n",
    "print(\"Residual Sum of Squares (SSR):\", ssr)"
   ]
  },
  {
   "cell_type": "markdown",
   "metadata": {},
   "source": [
    "Q5. In a two-way ANOVA, how would you calculate the main effects and interaction effects using Python?\n",
    "Ans. "
   ]
  },
  {
   "cell_type": "code",
   "execution_count": null,
   "metadata": {},
   "outputs": [],
   "source": [
    "import numpy as np\n",
    "from scipy import stats\n",
    "\n",
    "# Two-way ANOVA example data\n",
    "data = np.array([\n",
    "    [[10, 12, 14],\n",
    "     [11, 13, 15]],\n",
    "    [[12, 14, 16],\n",
    "     [13, 15, 17]],\n",
    "    [[14, 16, 18],\n",
    "     [15, 17, 19]]\n",
    "])\n",
    "\n",
    "# Calculate the main effects and interaction effects\n",
    "a, b, ab, resid = stats.linregress(np.arange(1, 4), np.arange(1, 7), np.ravel(data))\n",
    "\n",
    "# Print the results\n",
    "print(\"Main effect of Factor A:\", a)\n",
    "print(\"Main effect of Factor B:\", b)\n",
    "print(\"Interaction effect:\", ab)"
   ]
  },
  {
   "cell_type": "markdown",
   "metadata": {},
   "source": [
    "Q6. Suppose you conducted a one-way ANOVA and obtained an F-statistic of 5.23 and a p-value of 0.02. \n",
    "What can you conclude about the differences between the groups, and how would you interpret these \n",
    "results?\n",
    "Ans.  **Conclusion about the Differences Between the Groups:**\n",
    "\n",
    "- The obtained F-statistic of 5.23 indicates a statistically significant difference between at least two of the group means. \n",
    "\n",
    "- The p-value of 0.02 is less than the commonly used significance level of 0.05. This means that there is only a 2% chance that the observed differences between the group means could have occurred by chance alone.\n",
    "\n",
    "**Interpretation of the Results:**\n",
    "\n",
    "- The results provide strong evidence that at least one of the group means differs from the others. However, the analysis does not indicate which specific groups are different from each other.\n",
    "\n",
    "- To determine which specific groups differ, pairwise comparisons (such as post-hoc tests) would need to be conducted.\n",
    "\n",
    "- The effect size (e.g., partial eta squared) could also be calculated to provide an estimate of the magnitude of the differences between the group means."
   ]
  },
  {
   "cell_type": "markdown",
   "metadata": {},
   "source": [
    "Q7. In a repeated measures ANOVA, how would you handle missing data, and what are the potential \n",
    "consequences of using different methods to handle missing data?\n",
    "Ans. To handle missing data in a repeated measure of annova we use following steps:\n",
    "1. **Listwise Deletion**: \n",
    "- This method involves excluding any case that has missing data on any of the variables included in the analysis.\n",
    "- **Consequences**: \n",
    "    - Reduced sample size, which can lead to reduced statistical power.\n",
    "    - Potential bias if the missing data is not missing at random (MNAR). For example, if participants who drop out of a study are more likely to have lower scores on the outcome variable, then listwise deletion would result in a biased estimate of the population mean.\n",
    "\n",
    "2. **Pairwise Deletion**: \n",
    "- This method involves calculating the mean or sum of the available data for each pair of variables.\n",
    "- **Consequences**:\n",
    "    - Can lead to biased estimates if the missing data is not missing at random (MNAR). \n",
    "    - Can result in different sample sizes for different pairs of variables, which can make it difficult to compare results across variables.\n",
    "\n",
    "3. **Multiple Imputation**:\n",
    "- This method involves imputing missing values multiple times (e.g., 5 or 10 times) using a statistical method such as regression imputation or predictive mean matching.\n",
    "- **Consequences**: \n",
    "    - Can produce more accurate estimates than listwise or pairwise deletion, especially if the missing data is MNAR. \n",
    "    - Can also provide information about the uncertainty of the imputed values.\n",
    "\n",
    "4. **Maximum Likelihood Estimation (MLE)**: \n",
    "- This method uses a statistical model to estimate the missing values. \n",
    "- **Consequences**: \n",
    "    - Can produce unbiased estimates even if the missing data is MNAR, as long as the model is correctly specified. \n",
    "    - However, MLE can be sensitive to outliers and may not be appropriate if the missing data is heavily skewed or contains a large number of outliers.\n",
    "\n",
    "5. **Full Information Maximum Likelihood (FIML)**: \n",
    "- This method uses all of the available data, including the missing data, to estimate the model parameters. \n",
    "- **Consequences**: \n",
    "    - Can produce more accurate estimates than other methods, especially if the missing data is MNAR. \n",
    "    - However, FIML can be computationally intensive and may not be feasible for large datasets.\n",
    "\n",
    "In general, multiple imputation and FIML are preferred methods for handling missing data because they can produce unbiased estimates even if the missing data is MNAR. However, these methods can be more computationally intensive than other methods, and they may not be appropriate for all situations."
   ]
  },
  {
   "cell_type": "markdown",
   "metadata": {},
   "source": [
    "Q8. What are some common post-hoc tests used after ANOVA, and when would you use each one? Provide \n",
    "an example of a situation where a post-hoc test might be necessary.\n",
    "Ans. 1. **Tukey's HSD (Honestly Significant Difference) Test**:\n",
    "\n",
    "   - **When to Use**: When you have unequal sample sizes and you want to compare all possible pairs of means.\n",
    "   - **Example**: A researcher wants to compare the average test scores of four different teaching methods. They conduct an ANOVA and find a significant difference between the means. To determine which teaching methods are significantly different from each other, they use Tukey's HSD test.\n",
    "\n",
    "2. **Scheffé's Test**:\n",
    "\n",
    "   - **When to Use**: When you have equal sample sizes and you want to compare all possible pairs of means.\n",
    "   - **Example**: A researcher wants to compare the average weight loss of two different diet plans. They conduct an ANOVA and find a significant difference between the means. To determine which diet plan is significantly more effective, they use Scheffé's test.\n",
    "\n",
    "3. **Bonferroni Correction**:\n",
    "\n",
    "   - **When to Use**: When you have multiple comparisons and you want to control the overall Type I error rate.\n",
    "   - **Example**: A researcher wants to compare the effectiveness of four different drugs in reducing blood pressure. They conduct an ANOVA and find a significant difference between the means. To determine which drugs are significantly more effective than the others, they use the Bonferroni correction.\n",
    "\n",
    "4. **Dunnett's Test**:\n",
    "\n",
    "   - **When to Use**: When you have a control group and you want to compare each treatment group to the control group.\n",
    "   - **Example**: A researcher wants to compare the effectiveness of three different treatments for depression. They conduct an ANOVA and find a significant difference between the means. To determine which treatments are significantly more effective than the control group, they use Dunnett's test.\n",
    "\n",
    "5. **Newman-Keuls Test**:\n",
    "\n",
    "   - **When to Use**: When you have unequal sample sizes and you want to compare all possible pairs of means, but you don't have the assumptions necessary for Tukey's HSD test.\n",
    "   - **Example**: A researcher wants to compare the average test scores of four different teaching methods. They conduct an ANOVA and find a significant difference between the means. However, the sample sizes for each teaching method are unequal. To determine which teaching methods are significantly different from each other, they use the Newman-Keuls test."
   ]
  },
  {
   "cell_type": "markdown",
   "metadata": {},
   "source": [
    "Q9. A researcher wants to compare the mean weight loss of three diets: A, B, and C. They collect data from \n",
    "50 participants who were randomly assigned to one of the diets. Conduct a one-way ANOVA using Python \n",
    "to determine if there are any significant differences between the mean weight loss of the three diets. \n",
    "Report the F-statistic and p-value, and interpret the results."
   ]
  },
  {
   "cell_type": "code",
   "execution_count": 4,
   "metadata": {},
   "outputs": [
    {
     "ename": "KeyError",
     "evalue": "'Weight Loss Diet A'",
     "output_type": "error",
     "traceback": [
      "\u001b[1;31m---------------------------------------------------------------------------\u001b[0m",
      "\u001b[1;31mKeyError\u001b[0m                                  Traceback (most recent call last)",
      "File \u001b[1;32m~\\AppData\\Roaming\\Python\\Python311\\site-packages\\pandas\\core\\indexes\\base.py:3652\u001b[0m, in \u001b[0;36mIndex.get_loc\u001b[1;34m(self, key)\u001b[0m\n\u001b[0;32m   3651\u001b[0m \u001b[38;5;28;01mtry\u001b[39;00m:\n\u001b[1;32m-> 3652\u001b[0m     \u001b[38;5;28;01mreturn\u001b[39;00m \u001b[38;5;28;43mself\u001b[39;49m\u001b[38;5;241;43m.\u001b[39;49m\u001b[43m_engine\u001b[49m\u001b[38;5;241;43m.\u001b[39;49m\u001b[43mget_loc\u001b[49m\u001b[43m(\u001b[49m\u001b[43mcasted_key\u001b[49m\u001b[43m)\u001b[49m\n\u001b[0;32m   3653\u001b[0m \u001b[38;5;28;01mexcept\u001b[39;00m \u001b[38;5;167;01mKeyError\u001b[39;00m \u001b[38;5;28;01mas\u001b[39;00m err:\n",
      "File \u001b[1;32m~\\AppData\\Roaming\\Python\\Python311\\site-packages\\pandas\\_libs\\index.pyx:147\u001b[0m, in \u001b[0;36mpandas._libs.index.IndexEngine.get_loc\u001b[1;34m()\u001b[0m\n",
      "File \u001b[1;32m~\\AppData\\Roaming\\Python\\Python311\\site-packages\\pandas\\_libs\\index.pyx:176\u001b[0m, in \u001b[0;36mpandas._libs.index.IndexEngine.get_loc\u001b[1;34m()\u001b[0m\n",
      "File \u001b[1;32mpandas\\_libs\\hashtable_class_helper.pxi:7080\u001b[0m, in \u001b[0;36mpandas._libs.hashtable.PyObjectHashTable.get_item\u001b[1;34m()\u001b[0m\n",
      "File \u001b[1;32mpandas\\_libs\\hashtable_class_helper.pxi:7088\u001b[0m, in \u001b[0;36mpandas._libs.hashtable.PyObjectHashTable.get_item\u001b[1;34m()\u001b[0m\n",
      "\u001b[1;31mKeyError\u001b[0m: 'Weight Loss Diet A'",
      "\nThe above exception was the direct cause of the following exception:\n",
      "\u001b[1;31mKeyError\u001b[0m                                  Traceback (most recent call last)",
      "Cell \u001b[1;32mIn[4], line 9\u001b[0m\n\u001b[0;32m      6\u001b[0m data \u001b[38;5;241m=\u001b[39m pd\u001b[38;5;241m.\u001b[39mread_csv(\u001b[38;5;124m'\u001b[39m\u001b[38;5;124mdiets.csv\u001b[39m\u001b[38;5;124m'\u001b[39m)\n\u001b[0;32m      8\u001b[0m \u001b[38;5;66;03m# Create a one-way ANOVA model\u001b[39;00m\n\u001b[1;32m----> 9\u001b[0m model \u001b[38;5;241m=\u001b[39m stats\u001b[38;5;241m.\u001b[39mf_oneway(\u001b[43mdata\u001b[49m\u001b[43m[\u001b[49m\u001b[38;5;124;43m'\u001b[39;49m\u001b[38;5;124;43mWeight Loss Diet A\u001b[39;49m\u001b[38;5;124;43m'\u001b[39;49m\u001b[43m]\u001b[49m, data[\u001b[38;5;124m'\u001b[39m\u001b[38;5;124mWeight Loss Diet B\u001b[39m\u001b[38;5;124m'\u001b[39m], data[\u001b[38;5;124m'\u001b[39m\u001b[38;5;124mWeight Loss Diet C\u001b[39m\u001b[38;5;124m'\u001b[39m])\n\u001b[0;32m     11\u001b[0m \u001b[38;5;66;03m# Print the F-statistic and p-value\u001b[39;00m\n\u001b[0;32m     12\u001b[0m \u001b[38;5;28mprint\u001b[39m(\u001b[38;5;124m'\u001b[39m\u001b[38;5;124mF-statistic:\u001b[39m\u001b[38;5;124m'\u001b[39m, model\u001b[38;5;241m.\u001b[39mstatistic)\n",
      "File \u001b[1;32m~\\AppData\\Roaming\\Python\\Python311\\site-packages\\pandas\\core\\frame.py:3760\u001b[0m, in \u001b[0;36mDataFrame.__getitem__\u001b[1;34m(self, key)\u001b[0m\n\u001b[0;32m   3758\u001b[0m \u001b[38;5;28;01mif\u001b[39;00m \u001b[38;5;28mself\u001b[39m\u001b[38;5;241m.\u001b[39mcolumns\u001b[38;5;241m.\u001b[39mnlevels \u001b[38;5;241m>\u001b[39m \u001b[38;5;241m1\u001b[39m:\n\u001b[0;32m   3759\u001b[0m     \u001b[38;5;28;01mreturn\u001b[39;00m \u001b[38;5;28mself\u001b[39m\u001b[38;5;241m.\u001b[39m_getitem_multilevel(key)\n\u001b[1;32m-> 3760\u001b[0m indexer \u001b[38;5;241m=\u001b[39m \u001b[38;5;28;43mself\u001b[39;49m\u001b[38;5;241;43m.\u001b[39;49m\u001b[43mcolumns\u001b[49m\u001b[38;5;241;43m.\u001b[39;49m\u001b[43mget_loc\u001b[49m\u001b[43m(\u001b[49m\u001b[43mkey\u001b[49m\u001b[43m)\u001b[49m\n\u001b[0;32m   3761\u001b[0m \u001b[38;5;28;01mif\u001b[39;00m is_integer(indexer):\n\u001b[0;32m   3762\u001b[0m     indexer \u001b[38;5;241m=\u001b[39m [indexer]\n",
      "File \u001b[1;32m~\\AppData\\Roaming\\Python\\Python311\\site-packages\\pandas\\core\\indexes\\base.py:3654\u001b[0m, in \u001b[0;36mIndex.get_loc\u001b[1;34m(self, key)\u001b[0m\n\u001b[0;32m   3652\u001b[0m     \u001b[38;5;28;01mreturn\u001b[39;00m \u001b[38;5;28mself\u001b[39m\u001b[38;5;241m.\u001b[39m_engine\u001b[38;5;241m.\u001b[39mget_loc(casted_key)\n\u001b[0;32m   3653\u001b[0m \u001b[38;5;28;01mexcept\u001b[39;00m \u001b[38;5;167;01mKeyError\u001b[39;00m \u001b[38;5;28;01mas\u001b[39;00m err:\n\u001b[1;32m-> 3654\u001b[0m     \u001b[38;5;28;01mraise\u001b[39;00m \u001b[38;5;167;01mKeyError\u001b[39;00m(key) \u001b[38;5;28;01mfrom\u001b[39;00m \u001b[38;5;21;01merr\u001b[39;00m\n\u001b[0;32m   3655\u001b[0m \u001b[38;5;28;01mexcept\u001b[39;00m \u001b[38;5;167;01mTypeError\u001b[39;00m:\n\u001b[0;32m   3656\u001b[0m     \u001b[38;5;66;03m# If we have a listlike key, _check_indexing_error will raise\u001b[39;00m\n\u001b[0;32m   3657\u001b[0m     \u001b[38;5;66;03m#  InvalidIndexError. Otherwise we fall through and re-raise\u001b[39;00m\n\u001b[0;32m   3658\u001b[0m     \u001b[38;5;66;03m#  the TypeError.\u001b[39;00m\n\u001b[0;32m   3659\u001b[0m     \u001b[38;5;28mself\u001b[39m\u001b[38;5;241m.\u001b[39m_check_indexing_error(key)\n",
      "\u001b[1;31mKeyError\u001b[0m: 'Weight Loss Diet A'"
     ]
    }
   ],
   "source": [
    "import pandas as pd\n",
    "import numpy as np\n",
    "from scipy import stats\n",
    "\n",
    "# Load the data\n",
    "data = pd.read_csv('diets.csv')\n",
    "\n",
    "# Create a one-way ANOVA model\n",
    "model = stats.f_oneway(data['Weight Loss Diet A'], data['Weight Loss Diet B'], data['Weight Loss Diet C'])\n",
    "\n",
    "# Print the F-statistic and p-value\n",
    "print('F-statistic:', model.statistic)\n",
    "print('p-value:', model.pvalue)\n",
    "\n",
    "# Interpret the results\n",
    "if model.pvalue < 0.05:\n",
    "    print('There is a significant difference between the mean weight loss of the three diets.')\n",
    "else:\n",
    "    print('There is no significant difference between the mean weight loss of the three diets.')"
   ]
  },
  {
   "cell_type": "markdown",
   "metadata": {},
   "source": [
    "Q10. A company wants to know if there are any significant differences in the average time it takes to \n",
    "complete a task using three different software programs: Program A, Program B, and Program C. They \n",
    "randomly assign 30 employees to one of the programs and record the time it takes each employee to \n",
    "complete the task. Conduct a two-way ANOVA using Python to determine if there are any main effects or \n",
    "interaction effects between the software programs and employee experience level (novice vs. \n",
    "experienced). Report the F-statistics and p-values, and interpret the results."
   ]
  },
  {
   "cell_type": "code",
   "execution_count": null,
   "metadata": {},
   "outputs": [],
   "source": [
    "# Import the necessary libraries\n",
    "import pandas as pd\n",
    "import statsmodels.api as sm\n",
    "from statsmodels.formula.api import ols\n",
    "\n",
    "# Load the data\n",
    "data = pd.read_csv('task_completion_times.csv')\n",
    "\n",
    "# Create a two-way ANOVA model\n",
    "model = ols('time ~ software_program * experience_level', data=data).fit()\n",
    "\n",
    "# Print the ANOVA table\n",
    "print(sm.stats.anova_lm(model, typ=2))\n",
    "\n",
    "# Interpret the results\n",
    "# Main effect of software program\n",
    "print(\"Main effect of software program:\")\n",
    "print(\"F-statistic:\", model.f_pvalue[0])\n",
    "print(\"p-value:\", model.pvalues[0])\n",
    "if model.pvalues[0] < 0.05:\n",
    "    print(\"There is a significant difference in the average time it takes to complete the task using the three software programs.\")\n",
    "else:\n",
    "    print(\"There is no significant difference in the average time it takes to complete the task using the three software programs.\")\n",
    "\n",
    "# Main effect of experience level\n",
    "print(\"\\nMain effect of experience level:\")\n",
    "print(\"F-statistic:\", model.f_pvalue[1])\n",
    "print(\"p-value:\", model.pvalues[1])\n",
    "if model.pvalues[1] < 0.05:\n",
    "    print(\"There is a significant difference in the average time it takes to complete the task between novice and experienced employees.\")\n",
    "else:\n",
    "    print(\"There is no significant difference in the average time it takes to complete the task between novice and experienced employees.\")\n",
    "\n",
    "# Interaction effect between software program and experience level\n",
    "print(\"\\nInteraction effect between software program and experience level:\")\n",
    "print(\"F-statistic:\", model.f_pvalue[2])\n",
    "print(\"p-value:\", model.pvalues[2])\n",
    "if model.pvalues[2] < 0.05:\n",
    "    print(\"There is a significant interaction effect between the software program and experience level.\")\n",
    "else:\n",
    "    print(\"There is no significant interaction effect between the software program and experience level.\")"
   ]
  },
  {
   "cell_type": "markdown",
   "metadata": {},
   "source": [
    "Q11. An educational researcher is interested in whether a new teaching method improves student test \n",
    "scores. They randomly assign 100 students to either the control group (traditional teaching method) or the \n",
    "experimental group (new teaching method) and administer a test at the end of the semester. Conduct a \n",
    "two-sample t-test using Python to determine if there are any significant differences in test scores \n",
    "between the two groups. If the results are significant, follow up with a post-hoc test to determine which \n",
    "group(s) differ significantly from each other."
   ]
  },
  {
   "cell_type": "code",
   "execution_count": null,
   "metadata": {},
   "outputs": [],
   "source": [
    "# Import necessary libraries\n",
    "import numpy as np\n",
    "import pandas as pd\n",
    "from scipy import stats\n",
    "\n",
    "# Load the data\n",
    "data = pd.read_csv('test_scores.csv')\n",
    "\n",
    "# Check for normality and equal variances\n",
    "print(stats.normaltest(data.control))\n",
    "print(stats.normaltest(data.experimental))\n",
    "print(stats.levene(data.control, data.experimental))\n",
    "\n",
    "# Conduct a two-sample t-test\n",
    "t_test = stats.ttest_ind(data.control, data.experimental)\n",
    "\n",
    "# Print the results of the t-test\n",
    "print(\"t-value:\", t_test.statistic)\n",
    "print(\"p-value:\", t_test.pvalue)\n",
    "\n",
    "# If the results are significant, conduct a post-hoc test\n",
    "if t_test.pvalue < 0.05:\n",
    "    # Conduct a post-hoc test, e.g., Tukey's HSD test\n",
    "    tukey_hsd = stats.tukey_hsd(data.control, data.experimental)\n",
    "    \n",
    "    # Print the results of the post-hoc test\n",
    "    print(\"Tukey's HSD test:\")\n",
    "    print(tukey_hsd.pvalue)"
   ]
  },
  {
   "cell_type": "markdown",
   "metadata": {},
   "source": [
    "Q12. A researcher wants to know if there are any significant differences in the average daily sales of three \n",
    "retail stores: Store A, Store B, and Store C. They randomly select 30 days and record the sales for each store on those days. Conduct a repeated measures ANOVA using Python to determine if there are any \n",
    "significant differences in sales between the three stores. If the results are significant, follow up with a post-hoc test to determine which store(s) differ significantly from each other."
   ]
  },
  {
   "cell_type": "code",
   "execution_count": null,
   "metadata": {},
   "outputs": [],
   "source": [
    "import pandas as pd\n",
    "import numpy as np\n",
    "from statsmodels.stats.multicomp import MultiComparison\n",
    "\n",
    "# Load the data\n",
    "data = pd.read_csv('sales_data.csv')\n",
    "\n",
    "# Create a repeated measures ANOVA model\n",
    "model = pd.stats.api.mixed_anova(data, repeated_measures=['store'])\n",
    "\n",
    "# Print the ANOVA table\n",
    "print(model)\n",
    "\n",
    "# Check if the results are significant\n",
    "if model.pvalue < 0.05:\n",
    "    # Conduct a post-hoc test to determine which store(s) differ significantly from each other\n",
    "    mc = MultiComparison(data['sales'], data['store'])\n",
    "    res = mc.tukeyhsd()\n",
    "\n",
    "    # Print the results of the post-hoc test\n",
    "    print(res.summary())"
   ]
  }
 ],
 "metadata": {
  "kernelspec": {
   "display_name": "Python 3",
   "language": "python",
   "name": "python3"
  },
  "language_info": {
   "codemirror_mode": {
    "name": "ipython",
    "version": 3
   },
   "file_extension": ".py",
   "mimetype": "text/x-python",
   "name": "python",
   "nbconvert_exporter": "python",
   "pygments_lexer": "ipython3",
   "version": "3.11.5"
  }
 },
 "nbformat": 4,
 "nbformat_minor": 2
}
